{
  "nbformat": 4,
  "nbformat_minor": 0,
  "metadata": {
    "colab": {
      "name": "ЛР1 ТМО Белкина ИУ5-61.ipynb",
      "provenance": [],
      "collapsed_sections": []
    },
    "kernelspec": {
      "name": "python3",
      "display_name": "Python 3"
    }
  },
  "cells": [
    {
      "cell_type": "code",
      "metadata": {
        "id": "Q5_zEud1Nt3i",
        "colab_type": "code",
        "outputId": "2acec7bd-9f24-44cf-b945-f2b8c414388a",
        "colab": {
          "base_uri": "https://localhost:8080/",
          "height": 72
        }
      },
      "source": [
        "import numpy as np\n",
        "import pandas as pd\n",
        "import seaborn as sns\n",
        "import matplotlib.pyplot as plt\n",
        "%matplotlib inline \n",
        "sns.set(style=\"ticks\")\n"
      ],
      "execution_count": 0,
      "outputs": [
        {
          "output_type": "stream",
          "text": [
            "/usr/local/lib/python3.6/dist-packages/statsmodels/tools/_testing.py:19: FutureWarning: pandas.util.testing is deprecated. Use the functions in the public API at pandas.testing instead.\n",
            "  import pandas.util.testing as tm\n"
          ],
          "name": "stderr"
        }
      ]
    },
    {
      "cell_type": "code",
      "metadata": {
        "id": "9MMfGgiFwepo",
        "colab_type": "code",
        "outputId": "ff782c08-639a-4ee7-e0fb-f02bb0e1a92f",
        "colab": {
          "base_uri": "https://localhost:8080/",
          "height": 210
        }
      },
      "source": [
        "data.isnull().sum()"
      ],
      "execution_count": 0,
      "outputs": [
        {
          "output_type": "execute_result",
          "data": {
            "text/plain": [
              "timestamp       0\n",
              "cnt             0\n",
              "t1              0\n",
              "t2              0\n",
              "hum             0\n",
              "wind_speed      0\n",
              "weather_code    0\n",
              "is_holiday      0\n",
              "is_weekend      0\n",
              "season          0\n",
              "dtype: int64"
            ]
          },
          "metadata": {
            "tags": []
          },
          "execution_count": 6
        }
      ]
    },
    {
      "cell_type": "code",
      "metadata": {
        "id": "Ya9Me3viOhSZ",
        "colab_type": "code",
        "colab": {}
      },
      "source": [
        "data = pd.read_csv('/london_merged.csv')"
      ],
      "execution_count": 0,
      "outputs": []
    },
    {
      "cell_type": "code",
      "metadata": {
        "id": "gw0AVwcrI3yC",
        "colab_type": "code",
        "colab": {}
      },
      "source": [
        "data.head()\n",
        "data.shape\n",
        "\n",
        "total_count = data.shape[0]\n",
        "print('Всего строк: {}'.format(total_count))\n",
        "\n",
        "# Список колонок\n",
        "data.columns\n",
        "\n",
        "\n",
        "# Список колонок с типами данных\n",
        "data.dtypes\n",
        "\n",
        "# Проверим наличие пустых значений\n",
        "# Цикл по колонкам датасета\n",
        "for col in data.columns:\n",
        "    # Количество пустых значений - все значения заполнены\n",
        "    temp_null_count = data[data[col].isnull()].shape[0]\n",
        "    print('{} - {}'.format(col, temp_null_count))\n",
        "\n",
        "# Основные статистические характеристки набора данных\n",
        "data.describe()\n",
        "\n",
        "# Определим уникальные значения для целевого признака\n",
        "data['is_weekend'].unique()\n",
        "\n",
        "fig, ax = plt.subplots(figsize=(8,8)) \n",
        "sns.scatterplot(ax=ax, x='wind_speed', y='t2', data=data)\n",
        "\n",
        "fig, ax = plt.subplots(figsize=(8,8)) \n",
        "sns.scatterplot(ax=ax, x='t1', y='hum', data=data, hue='is_holiday')\n",
        "\n",
        "fig, ax = plt.subplots(figsize=(8,8)) \n",
        "sns.distplot(data['hum'])\n",
        "\n",
        "sns.jointplot(x='t2', y='hum', data=data, kind=\"hex\")\n",
        "\n",
        "sns.pairplot(data, hue=\"is_weekend\")\n",
        "\n",
        "sns.boxplot(y=data['t2'])\n",
        "\n",
        "sns.boxplot(x='is_weekend', y='cnt', data=data)\n",
        "\n",
        "sns.violinplot(x='is_weekend', y='t1', data=data)\n",
        "\n",
        "\n",
        "\n",
        "data.corr(method='pearson')\n",
        "data.corr(method='kendall')\n",
        "data.corr(method='spearman')\n",
        "\n",
        "sns.heatmap(data.corr(), cmap='YlGnBu', annot=True, fmt='.2f')\n",
        "\n",
        "fig, ax = plt.subplots(1, 3, sharex='col', sharey='row', figsize=(15,5))\n",
        "sns.heatmap(data.corr(method='pearson'), ax=ax[0], annot=True, fmt='.2f')\n",
        "sns.heatmap(data.corr(method='kendall'), ax=ax[1], annot=True, fmt='.2f')\n",
        "sns.heatmap(data.corr(method='spearman'), ax=ax[2], annot=True, fmt='.2f')\n",
        "fig.suptitle('Корреляционные матрицы, построенные различными методами')\n",
        "ax[0].title.set_text('Pearson')\n",
        "ax[1].title.set_text('Kendall')\n",
        "ax[2].title.set_text('Spearman')\n",
        "\n"
      ],
      "execution_count": 0,
      "outputs": []
    }
  ]
}