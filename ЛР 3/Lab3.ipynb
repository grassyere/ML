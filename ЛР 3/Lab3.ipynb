{
  "nbformat": 4,
  "nbformat_minor": 0,
  "metadata": {
    "colab": {
      "name": "Lab3.ipynb",
      "provenance": [],
      "collapsed_sections": []
    },
    "kernelspec": {
      "name": "python3",
      "display_name": "Python 3"
    }
  },
  "cells": [
    {
      "cell_type": "code",
      "metadata": {
        "id": "NurCykI1OAx2",
        "colab_type": "code",
        "colab": {
          "base_uri": "https://localhost:8080/",
          "height": 72
        },
        "outputId": "a13f4f03-df2d-4d23-e098-c0499aea04d2"
      },
      "source": [
        "import numpy as np\n",
        "import pandas as pd\n",
        "import seaborn as sns\n",
        "import matplotlib.pyplot as plt\n",
        "%matplotlib inline \n",
        "sns.set(style=\"ticks\")"
      ],
      "execution_count": 11,
      "outputs": [
        {
          "output_type": "stream",
          "text": [
            "/usr/local/lib/python3.6/dist-packages/statsmodels/tools/_testing.py:19: FutureWarning: pandas.util.testing is deprecated. Use the functions in the public API at pandas.testing instead.\n",
            "  import pandas.util.testing as tm\n"
          ],
          "name": "stderr"
        }
      ]
    },
    {
      "cell_type": "code",
      "metadata": {
        "id": "Omw4uN64OMey",
        "colab_type": "code",
        "colab": {
          "base_uri": "https://localhost:8080/",
          "height": 34
        },
        "outputId": "1b662cca-d32e-4d9e-8e78-9dc50c423cf6"
      },
      "source": [
        "data = pd.read_csv('/Placement_Data_Full_Class.csv')\n",
        "\n",
        "\n",
        "total_count = data.shape[0]\n",
        "print('Всего строк: {}'.format(total_count))"
      ],
      "execution_count": 13,
      "outputs": [
        {
          "output_type": "stream",
          "text": [
            "Всего строк: 215\n"
          ],
          "name": "stdout"
        }
      ]
    },
    {
      "cell_type": "code",
      "metadata": {
        "id": "gfKzZjKIb8Lm",
        "colab_type": "code",
        "colab": {
          "base_uri": "https://localhost:8080/",
          "height": 195
        },
        "outputId": "ec8dafcf-a7a3-415e-da4f-6ea3a49703a5"
      },
      "source": [
        "# Первые 5 строк датасета\n",
        "data.head()"
      ],
      "execution_count": 6,
      "outputs": [
        {
          "output_type": "execute_result",
          "data": {
            "text/html": [
              "<div>\n",
              "<style scoped>\n",
              "    .dataframe tbody tr th:only-of-type {\n",
              "        vertical-align: middle;\n",
              "    }\n",
              "\n",
              "    .dataframe tbody tr th {\n",
              "        vertical-align: top;\n",
              "    }\n",
              "\n",
              "    .dataframe thead th {\n",
              "        text-align: right;\n",
              "    }\n",
              "</style>\n",
              "<table border=\"1\" class=\"dataframe\">\n",
              "  <thead>\n",
              "    <tr style=\"text-align: right;\">\n",
              "      <th></th>\n",
              "      <th>sl_no</th>\n",
              "      <th>gender</th>\n",
              "      <th>ssc_p</th>\n",
              "      <th>ssc_b</th>\n",
              "      <th>hsc_p</th>\n",
              "      <th>hsc_b</th>\n",
              "      <th>hsc_s</th>\n",
              "      <th>degree_p</th>\n",
              "      <th>degree_t</th>\n",
              "      <th>workex</th>\n",
              "      <th>etest_p</th>\n",
              "      <th>specialisation</th>\n",
              "      <th>mba_p</th>\n",
              "      <th>status</th>\n",
              "      <th>salary</th>\n",
              "    </tr>\n",
              "  </thead>\n",
              "  <tbody>\n",
              "    <tr>\n",
              "      <th>0</th>\n",
              "      <td>1</td>\n",
              "      <td>M</td>\n",
              "      <td>67.00</td>\n",
              "      <td>Others</td>\n",
              "      <td>91.00</td>\n",
              "      <td>Others</td>\n",
              "      <td>Commerce</td>\n",
              "      <td>58.00</td>\n",
              "      <td>Sci&amp;Tech</td>\n",
              "      <td>No</td>\n",
              "      <td>55.0</td>\n",
              "      <td>Mkt&amp;HR</td>\n",
              "      <td>58.80</td>\n",
              "      <td>Placed</td>\n",
              "      <td>270000.0</td>\n",
              "    </tr>\n",
              "    <tr>\n",
              "      <th>1</th>\n",
              "      <td>2</td>\n",
              "      <td>M</td>\n",
              "      <td>79.33</td>\n",
              "      <td>Central</td>\n",
              "      <td>78.33</td>\n",
              "      <td>Others</td>\n",
              "      <td>Science</td>\n",
              "      <td>77.48</td>\n",
              "      <td>Sci&amp;Tech</td>\n",
              "      <td>Yes</td>\n",
              "      <td>86.5</td>\n",
              "      <td>Mkt&amp;Fin</td>\n",
              "      <td>66.28</td>\n",
              "      <td>Placed</td>\n",
              "      <td>200000.0</td>\n",
              "    </tr>\n",
              "    <tr>\n",
              "      <th>2</th>\n",
              "      <td>3</td>\n",
              "      <td>M</td>\n",
              "      <td>65.00</td>\n",
              "      <td>Central</td>\n",
              "      <td>68.00</td>\n",
              "      <td>Central</td>\n",
              "      <td>Arts</td>\n",
              "      <td>64.00</td>\n",
              "      <td>Comm&amp;Mgmt</td>\n",
              "      <td>No</td>\n",
              "      <td>75.0</td>\n",
              "      <td>Mkt&amp;Fin</td>\n",
              "      <td>57.80</td>\n",
              "      <td>Placed</td>\n",
              "      <td>250000.0</td>\n",
              "    </tr>\n",
              "    <tr>\n",
              "      <th>3</th>\n",
              "      <td>4</td>\n",
              "      <td>M</td>\n",
              "      <td>56.00</td>\n",
              "      <td>Central</td>\n",
              "      <td>52.00</td>\n",
              "      <td>Central</td>\n",
              "      <td>Science</td>\n",
              "      <td>52.00</td>\n",
              "      <td>Sci&amp;Tech</td>\n",
              "      <td>No</td>\n",
              "      <td>66.0</td>\n",
              "      <td>Mkt&amp;HR</td>\n",
              "      <td>59.43</td>\n",
              "      <td>Not Placed</td>\n",
              "      <td>NaN</td>\n",
              "    </tr>\n",
              "    <tr>\n",
              "      <th>4</th>\n",
              "      <td>5</td>\n",
              "      <td>M</td>\n",
              "      <td>85.80</td>\n",
              "      <td>Central</td>\n",
              "      <td>73.60</td>\n",
              "      <td>Central</td>\n",
              "      <td>Commerce</td>\n",
              "      <td>73.30</td>\n",
              "      <td>Comm&amp;Mgmt</td>\n",
              "      <td>No</td>\n",
              "      <td>96.8</td>\n",
              "      <td>Mkt&amp;Fin</td>\n",
              "      <td>55.50</td>\n",
              "      <td>Placed</td>\n",
              "      <td>425000.0</td>\n",
              "    </tr>\n",
              "  </tbody>\n",
              "</table>\n",
              "</div>"
            ],
            "text/plain": [
              "   sl_no gender  ssc_p    ssc_b  ...  specialisation  mba_p      status    salary\n",
              "0      1      M  67.00   Others  ...          Mkt&HR  58.80      Placed  270000.0\n",
              "1      2      M  79.33  Central  ...         Mkt&Fin  66.28      Placed  200000.0\n",
              "2      3      M  65.00  Central  ...         Mkt&Fin  57.80      Placed  250000.0\n",
              "3      4      M  56.00  Central  ...          Mkt&HR  59.43  Not Placed       NaN\n",
              "4      5      M  85.80  Central  ...         Mkt&Fin  55.50      Placed  425000.0\n",
              "\n",
              "[5 rows x 15 columns]"
            ]
          },
          "metadata": {
            "tags": []
          },
          "execution_count": 6
        }
      ]
    },
    {
      "cell_type": "code",
      "metadata": {
        "id": "D2HVaklddvkj",
        "colab_type": "code",
        "colab": {}
      },
      "source": [
        ""
      ],
      "execution_count": 0,
      "outputs": []
    },
    {
      "cell_type": "code",
      "metadata": {
        "id": "ECvQEWjrcB4L",
        "colab_type": "code",
        "colab": {
          "base_uri": "https://localhost:8080/",
          "height": 34
        },
        "outputId": "35472706-bcad-4185-9f83-6039194ddb13"
      },
      "source": [
        "# размер набора данных\n",
        "data.shape"
      ],
      "execution_count": 14,
      "outputs": [
        {
          "output_type": "execute_result",
          "data": {
            "text/plain": [
              "(215, 15)"
            ]
          },
          "metadata": {
            "tags": []
          },
          "execution_count": 14
        }
      ]
    },
    {
      "cell_type": "code",
      "metadata": {
        "id": "qdzVG4Qib_z6",
        "colab_type": "code",
        "colab": {
          "base_uri": "https://localhost:8080/",
          "height": 298
        },
        "outputId": "702eba97-fbb4-4669-cdba-3f1e5c354fdb"
      },
      "source": [
        "\n",
        "# типы колонок\n",
        "data.dtypes\n"
      ],
      "execution_count": 15,
      "outputs": [
        {
          "output_type": "execute_result",
          "data": {
            "text/plain": [
              "sl_no               int64\n",
              "gender             object\n",
              "ssc_p             float64\n",
              "ssc_b              object\n",
              "hsc_p             float64\n",
              "hsc_b              object\n",
              "hsc_s              object\n",
              "degree_p          float64\n",
              "degree_t           object\n",
              "workex             object\n",
              "etest_p           float64\n",
              "specialisation     object\n",
              "mba_p             float64\n",
              "status             object\n",
              "salary            float64\n",
              "dtype: object"
            ]
          },
          "metadata": {
            "tags": []
          },
          "execution_count": 15
        }
      ]
    },
    {
      "cell_type": "code",
      "metadata": {
        "id": "5uX-odJAOaa6",
        "colab_type": "code",
        "colab": {
          "base_uri": "https://localhost:8080/",
          "height": 298
        },
        "outputId": "09c04f87-1034-4bdc-e613-d7a85bc880b5"
      },
      "source": [
        "data.isnull().sum()"
      ],
      "execution_count": 16,
      "outputs": [
        {
          "output_type": "execute_result",
          "data": {
            "text/plain": [
              "sl_no              0\n",
              "gender             0\n",
              "ssc_p              0\n",
              "ssc_b              0\n",
              "hsc_p              0\n",
              "hsc_b              0\n",
              "hsc_s              0\n",
              "degree_p           0\n",
              "degree_t           0\n",
              "workex             0\n",
              "etest_p            0\n",
              "specialisation     0\n",
              "mba_p              0\n",
              "status             0\n",
              "salary            67\n",
              "dtype: int64"
            ]
          },
          "metadata": {
            "tags": []
          },
          "execution_count": 16
        }
      ]
    },
    {
      "cell_type": "code",
      "metadata": {
        "id": "eHcA_WHqeEuz",
        "colab_type": "code",
        "colab": {
          "base_uri": "https://localhost:8080/",
          "height": 34
        },
        "outputId": "9e554e95-f03b-4058-c191-2d4bd9ad6a52"
      },
      "source": [
        "# Удаление колонок, содержащих пустые значения\n",
        "data_new_1 = data.dropna(axis=1, how='any')\n",
        "(data.shape, data_new_1.shape)"
      ],
      "execution_count": 17,
      "outputs": [
        {
          "output_type": "execute_result",
          "data": {
            "text/plain": [
              "((215, 15), (215, 14))"
            ]
          },
          "metadata": {
            "tags": []
          },
          "execution_count": 17
        }
      ]
    },
    {
      "cell_type": "code",
      "metadata": {
        "id": "BkjRnS3ZeHdg",
        "colab_type": "code",
        "colab": {
          "base_uri": "https://localhost:8080/",
          "height": 34
        },
        "outputId": "a587f1fd-6d32-4e5d-da99-077c4eed5ea3"
      },
      "source": [
        "# Удаление строк, содержащих пустые значения\n",
        "data_new_2 = data.dropna(axis=0, how='any')\n",
        "(data.shape, data_new_2.shape)"
      ],
      "execution_count": 18,
      "outputs": [
        {
          "output_type": "execute_result",
          "data": {
            "text/plain": [
              "((215, 15), (148, 15))"
            ]
          },
          "metadata": {
            "tags": []
          },
          "execution_count": 18
        }
      ]
    },
    {
      "cell_type": "code",
      "metadata": {
        "id": "ZK5Y6GdieRqc",
        "colab_type": "code",
        "colab": {
          "base_uri": "https://localhost:8080/",
          "height": 195
        },
        "outputId": "0c905089-1e9c-49c6-a922-54b835a070ce"
      },
      "source": [
        "data.head()"
      ],
      "execution_count": 19,
      "outputs": [
        {
          "output_type": "execute_result",
          "data": {
            "text/html": [
              "<div>\n",
              "<style scoped>\n",
              "    .dataframe tbody tr th:only-of-type {\n",
              "        vertical-align: middle;\n",
              "    }\n",
              "\n",
              "    .dataframe tbody tr th {\n",
              "        vertical-align: top;\n",
              "    }\n",
              "\n",
              "    .dataframe thead th {\n",
              "        text-align: right;\n",
              "    }\n",
              "</style>\n",
              "<table border=\"1\" class=\"dataframe\">\n",
              "  <thead>\n",
              "    <tr style=\"text-align: right;\">\n",
              "      <th></th>\n",
              "      <th>sl_no</th>\n",
              "      <th>gender</th>\n",
              "      <th>ssc_p</th>\n",
              "      <th>ssc_b</th>\n",
              "      <th>hsc_p</th>\n",
              "      <th>hsc_b</th>\n",
              "      <th>hsc_s</th>\n",
              "      <th>degree_p</th>\n",
              "      <th>degree_t</th>\n",
              "      <th>workex</th>\n",
              "      <th>etest_p</th>\n",
              "      <th>specialisation</th>\n",
              "      <th>mba_p</th>\n",
              "      <th>status</th>\n",
              "      <th>salary</th>\n",
              "    </tr>\n",
              "  </thead>\n",
              "  <tbody>\n",
              "    <tr>\n",
              "      <th>0</th>\n",
              "      <td>1</td>\n",
              "      <td>M</td>\n",
              "      <td>67.00</td>\n",
              "      <td>Others</td>\n",
              "      <td>91.00</td>\n",
              "      <td>Others</td>\n",
              "      <td>Commerce</td>\n",
              "      <td>58.00</td>\n",
              "      <td>Sci&amp;Tech</td>\n",
              "      <td>No</td>\n",
              "      <td>55.0</td>\n",
              "      <td>Mkt&amp;HR</td>\n",
              "      <td>58.80</td>\n",
              "      <td>Placed</td>\n",
              "      <td>270000.0</td>\n",
              "    </tr>\n",
              "    <tr>\n",
              "      <th>1</th>\n",
              "      <td>2</td>\n",
              "      <td>M</td>\n",
              "      <td>79.33</td>\n",
              "      <td>Central</td>\n",
              "      <td>78.33</td>\n",
              "      <td>Others</td>\n",
              "      <td>Science</td>\n",
              "      <td>77.48</td>\n",
              "      <td>Sci&amp;Tech</td>\n",
              "      <td>Yes</td>\n",
              "      <td>86.5</td>\n",
              "      <td>Mkt&amp;Fin</td>\n",
              "      <td>66.28</td>\n",
              "      <td>Placed</td>\n",
              "      <td>200000.0</td>\n",
              "    </tr>\n",
              "    <tr>\n",
              "      <th>2</th>\n",
              "      <td>3</td>\n",
              "      <td>M</td>\n",
              "      <td>65.00</td>\n",
              "      <td>Central</td>\n",
              "      <td>68.00</td>\n",
              "      <td>Central</td>\n",
              "      <td>Arts</td>\n",
              "      <td>64.00</td>\n",
              "      <td>Comm&amp;Mgmt</td>\n",
              "      <td>No</td>\n",
              "      <td>75.0</td>\n",
              "      <td>Mkt&amp;Fin</td>\n",
              "      <td>57.80</td>\n",
              "      <td>Placed</td>\n",
              "      <td>250000.0</td>\n",
              "    </tr>\n",
              "    <tr>\n",
              "      <th>3</th>\n",
              "      <td>4</td>\n",
              "      <td>M</td>\n",
              "      <td>56.00</td>\n",
              "      <td>Central</td>\n",
              "      <td>52.00</td>\n",
              "      <td>Central</td>\n",
              "      <td>Science</td>\n",
              "      <td>52.00</td>\n",
              "      <td>Sci&amp;Tech</td>\n",
              "      <td>No</td>\n",
              "      <td>66.0</td>\n",
              "      <td>Mkt&amp;HR</td>\n",
              "      <td>59.43</td>\n",
              "      <td>Not Placed</td>\n",
              "      <td>NaN</td>\n",
              "    </tr>\n",
              "    <tr>\n",
              "      <th>4</th>\n",
              "      <td>5</td>\n",
              "      <td>M</td>\n",
              "      <td>85.80</td>\n",
              "      <td>Central</td>\n",
              "      <td>73.60</td>\n",
              "      <td>Central</td>\n",
              "      <td>Commerce</td>\n",
              "      <td>73.30</td>\n",
              "      <td>Comm&amp;Mgmt</td>\n",
              "      <td>No</td>\n",
              "      <td>96.8</td>\n",
              "      <td>Mkt&amp;Fin</td>\n",
              "      <td>55.50</td>\n",
              "      <td>Placed</td>\n",
              "      <td>425000.0</td>\n",
              "    </tr>\n",
              "  </tbody>\n",
              "</table>\n",
              "</div>"
            ],
            "text/plain": [
              "   sl_no gender  ssc_p    ssc_b  ...  specialisation  mba_p      status    salary\n",
              "0      1      M  67.00   Others  ...          Mkt&HR  58.80      Placed  270000.0\n",
              "1      2      M  79.33  Central  ...         Mkt&Fin  66.28      Placed  200000.0\n",
              "2      3      M  65.00  Central  ...         Mkt&Fin  57.80      Placed  250000.0\n",
              "3      4      M  56.00  Central  ...          Mkt&HR  59.43  Not Placed       NaN\n",
              "4      5      M  85.80  Central  ...         Mkt&Fin  55.50      Placed  425000.0\n",
              "\n",
              "[5 rows x 15 columns]"
            ]
          },
          "metadata": {
            "tags": []
          },
          "execution_count": 19
        }
      ]
    },
    {
      "cell_type": "code",
      "metadata": {
        "id": "vfIePccReX-8",
        "colab_type": "code",
        "colab": {
          "base_uri": "https://localhost:8080/",
          "height": 195
        },
        "outputId": "49fd3c17-de64-4afe-ceeb-a34270b583f5"
      },
      "source": [
        "# Заполнение всех пропущенных значений нулями\n",
        "data_new_3 = data.fillna(0)\n",
        "data_new_3.head()"
      ],
      "execution_count": 20,
      "outputs": [
        {
          "output_type": "execute_result",
          "data": {
            "text/html": [
              "<div>\n",
              "<style scoped>\n",
              "    .dataframe tbody tr th:only-of-type {\n",
              "        vertical-align: middle;\n",
              "    }\n",
              "\n",
              "    .dataframe tbody tr th {\n",
              "        vertical-align: top;\n",
              "    }\n",
              "\n",
              "    .dataframe thead th {\n",
              "        text-align: right;\n",
              "    }\n",
              "</style>\n",
              "<table border=\"1\" class=\"dataframe\">\n",
              "  <thead>\n",
              "    <tr style=\"text-align: right;\">\n",
              "      <th></th>\n",
              "      <th>sl_no</th>\n",
              "      <th>gender</th>\n",
              "      <th>ssc_p</th>\n",
              "      <th>ssc_b</th>\n",
              "      <th>hsc_p</th>\n",
              "      <th>hsc_b</th>\n",
              "      <th>hsc_s</th>\n",
              "      <th>degree_p</th>\n",
              "      <th>degree_t</th>\n",
              "      <th>workex</th>\n",
              "      <th>etest_p</th>\n",
              "      <th>specialisation</th>\n",
              "      <th>mba_p</th>\n",
              "      <th>status</th>\n",
              "      <th>salary</th>\n",
              "    </tr>\n",
              "  </thead>\n",
              "  <tbody>\n",
              "    <tr>\n",
              "      <th>0</th>\n",
              "      <td>1</td>\n",
              "      <td>M</td>\n",
              "      <td>67.00</td>\n",
              "      <td>Others</td>\n",
              "      <td>91.00</td>\n",
              "      <td>Others</td>\n",
              "      <td>Commerce</td>\n",
              "      <td>58.00</td>\n",
              "      <td>Sci&amp;Tech</td>\n",
              "      <td>No</td>\n",
              "      <td>55.0</td>\n",
              "      <td>Mkt&amp;HR</td>\n",
              "      <td>58.80</td>\n",
              "      <td>Placed</td>\n",
              "      <td>270000.0</td>\n",
              "    </tr>\n",
              "    <tr>\n",
              "      <th>1</th>\n",
              "      <td>2</td>\n",
              "      <td>M</td>\n",
              "      <td>79.33</td>\n",
              "      <td>Central</td>\n",
              "      <td>78.33</td>\n",
              "      <td>Others</td>\n",
              "      <td>Science</td>\n",
              "      <td>77.48</td>\n",
              "      <td>Sci&amp;Tech</td>\n",
              "      <td>Yes</td>\n",
              "      <td>86.5</td>\n",
              "      <td>Mkt&amp;Fin</td>\n",
              "      <td>66.28</td>\n",
              "      <td>Placed</td>\n",
              "      <td>200000.0</td>\n",
              "    </tr>\n",
              "    <tr>\n",
              "      <th>2</th>\n",
              "      <td>3</td>\n",
              "      <td>M</td>\n",
              "      <td>65.00</td>\n",
              "      <td>Central</td>\n",
              "      <td>68.00</td>\n",
              "      <td>Central</td>\n",
              "      <td>Arts</td>\n",
              "      <td>64.00</td>\n",
              "      <td>Comm&amp;Mgmt</td>\n",
              "      <td>No</td>\n",
              "      <td>75.0</td>\n",
              "      <td>Mkt&amp;Fin</td>\n",
              "      <td>57.80</td>\n",
              "      <td>Placed</td>\n",
              "      <td>250000.0</td>\n",
              "    </tr>\n",
              "    <tr>\n",
              "      <th>3</th>\n",
              "      <td>4</td>\n",
              "      <td>M</td>\n",
              "      <td>56.00</td>\n",
              "      <td>Central</td>\n",
              "      <td>52.00</td>\n",
              "      <td>Central</td>\n",
              "      <td>Science</td>\n",
              "      <td>52.00</td>\n",
              "      <td>Sci&amp;Tech</td>\n",
              "      <td>No</td>\n",
              "      <td>66.0</td>\n",
              "      <td>Mkt&amp;HR</td>\n",
              "      <td>59.43</td>\n",
              "      <td>Not Placed</td>\n",
              "      <td>0.0</td>\n",
              "    </tr>\n",
              "    <tr>\n",
              "      <th>4</th>\n",
              "      <td>5</td>\n",
              "      <td>M</td>\n",
              "      <td>85.80</td>\n",
              "      <td>Central</td>\n",
              "      <td>73.60</td>\n",
              "      <td>Central</td>\n",
              "      <td>Commerce</td>\n",
              "      <td>73.30</td>\n",
              "      <td>Comm&amp;Mgmt</td>\n",
              "      <td>No</td>\n",
              "      <td>96.8</td>\n",
              "      <td>Mkt&amp;Fin</td>\n",
              "      <td>55.50</td>\n",
              "      <td>Placed</td>\n",
              "      <td>425000.0</td>\n",
              "    </tr>\n",
              "  </tbody>\n",
              "</table>\n",
              "</div>"
            ],
            "text/plain": [
              "   sl_no gender  ssc_p    ssc_b  ...  specialisation  mba_p      status    salary\n",
              "0      1      M  67.00   Others  ...          Mkt&HR  58.80      Placed  270000.0\n",
              "1      2      M  79.33  Central  ...         Mkt&Fin  66.28      Placed  200000.0\n",
              "2      3      M  65.00  Central  ...         Mkt&Fin  57.80      Placed  250000.0\n",
              "3      4      M  56.00  Central  ...          Mkt&HR  59.43  Not Placed       0.0\n",
              "4      5      M  85.80  Central  ...         Mkt&Fin  55.50      Placed  425000.0\n",
              "\n",
              "[5 rows x 15 columns]"
            ]
          },
          "metadata": {
            "tags": []
          },
          "execution_count": 20
        }
      ]
    },
    {
      "cell_type": "code",
      "metadata": {
        "id": "2dvz69pdepJT",
        "colab_type": "code",
        "colab": {
          "base_uri": "https://localhost:8080/",
          "height": 34
        },
        "outputId": "7352a6f1-cbc2-40ec-cde4-c8659bd0883b"
      },
      "source": [
        "# Выберем числовые колонки с пропущенными значениями\n",
        "# Цикл по колонкам датасета\n",
        "num_cols = []\n",
        "for col in data.columns:\n",
        "    # Количество пустых значений \n",
        "    temp_null_count = data[data[col].isnull()].shape[0]\n",
        "    dt = str(data[col].dtype)\n",
        "    if temp_null_count>0 and (dt=='float64' or dt=='int64'):\n",
        "        num_cols.append(col)\n",
        "        temp_perc = round((temp_null_count / total_count) * 100.0, 2)\n",
        "        print('Колонка {}. Тип данных {}. Количество пустых значений {}, {}%.'.format(col, dt, temp_null_count, temp_perc))"
      ],
      "execution_count": 21,
      "outputs": [
        {
          "output_type": "stream",
          "text": [
            "Колонка salary. Тип данных float64. Количество пустых значений 67, 31.16%.\n"
          ],
          "name": "stdout"
        }
      ]
    },
    {
      "cell_type": "code",
      "metadata": {
        "id": "dEy8TKLbe0QE",
        "colab_type": "code",
        "colab": {
          "base_uri": "https://localhost:8080/",
          "height": 402
        },
        "outputId": "1eb23bf0-c36a-4ddf-bfcb-cde0bb692678"
      },
      "source": [
        "# Фильтр по колонкам с пропущенными значениями\n",
        "data_num = data[num_cols]\n",
        "data_num"
      ],
      "execution_count": 22,
      "outputs": [
        {
          "output_type": "execute_result",
          "data": {
            "text/html": [
              "<div>\n",
              "<style scoped>\n",
              "    .dataframe tbody tr th:only-of-type {\n",
              "        vertical-align: middle;\n",
              "    }\n",
              "\n",
              "    .dataframe tbody tr th {\n",
              "        vertical-align: top;\n",
              "    }\n",
              "\n",
              "    .dataframe thead th {\n",
              "        text-align: right;\n",
              "    }\n",
              "</style>\n",
              "<table border=\"1\" class=\"dataframe\">\n",
              "  <thead>\n",
              "    <tr style=\"text-align: right;\">\n",
              "      <th></th>\n",
              "      <th>salary</th>\n",
              "    </tr>\n",
              "  </thead>\n",
              "  <tbody>\n",
              "    <tr>\n",
              "      <th>0</th>\n",
              "      <td>270000.0</td>\n",
              "    </tr>\n",
              "    <tr>\n",
              "      <th>1</th>\n",
              "      <td>200000.0</td>\n",
              "    </tr>\n",
              "    <tr>\n",
              "      <th>2</th>\n",
              "      <td>250000.0</td>\n",
              "    </tr>\n",
              "    <tr>\n",
              "      <th>3</th>\n",
              "      <td>NaN</td>\n",
              "    </tr>\n",
              "    <tr>\n",
              "      <th>4</th>\n",
              "      <td>425000.0</td>\n",
              "    </tr>\n",
              "    <tr>\n",
              "      <th>...</th>\n",
              "      <td>...</td>\n",
              "    </tr>\n",
              "    <tr>\n",
              "      <th>210</th>\n",
              "      <td>400000.0</td>\n",
              "    </tr>\n",
              "    <tr>\n",
              "      <th>211</th>\n",
              "      <td>275000.0</td>\n",
              "    </tr>\n",
              "    <tr>\n",
              "      <th>212</th>\n",
              "      <td>295000.0</td>\n",
              "    </tr>\n",
              "    <tr>\n",
              "      <th>213</th>\n",
              "      <td>204000.0</td>\n",
              "    </tr>\n",
              "    <tr>\n",
              "      <th>214</th>\n",
              "      <td>NaN</td>\n",
              "    </tr>\n",
              "  </tbody>\n",
              "</table>\n",
              "<p>215 rows × 1 columns</p>\n",
              "</div>"
            ],
            "text/plain": [
              "       salary\n",
              "0    270000.0\n",
              "1    200000.0\n",
              "2    250000.0\n",
              "3         NaN\n",
              "4    425000.0\n",
              "..        ...\n",
              "210  400000.0\n",
              "211  275000.0\n",
              "212  295000.0\n",
              "213  204000.0\n",
              "214       NaN\n",
              "\n",
              "[215 rows x 1 columns]"
            ]
          },
          "metadata": {
            "tags": []
          },
          "execution_count": 22
        }
      ]
    },
    {
      "cell_type": "code",
      "metadata": {
        "id": "RFUYC3U8fSx7",
        "colab_type": "code",
        "colab": {
          "base_uri": "https://localhost:8080/",
          "height": 358
        },
        "outputId": "aceca90f-d4b9-4aa2-ba02-1680e9343638"
      },
      "source": [
        "# Гистограмма по признакам\n",
        "for col in data_num:\n",
        "    plt.hist(data[col], 50)\n",
        "    plt.xlabel(col)\n",
        "    plt.show()"
      ],
      "execution_count": 23,
      "outputs": [
        {
          "output_type": "stream",
          "text": [
            "/usr/local/lib/python3.6/dist-packages/numpy/lib/histograms.py:839: RuntimeWarning: invalid value encountered in greater_equal\n",
            "  keep = (tmp_a >= first_edge)\n",
            "/usr/local/lib/python3.6/dist-packages/numpy/lib/histograms.py:840: RuntimeWarning: invalid value encountered in less_equal\n",
            "  keep &= (tmp_a <= last_edge)\n"
          ],
          "name": "stderr"
        },
        {
          "output_type": "display_data",
          "data": {
            "image/png": "[encoded data removed]",
            "text/plain": [
              "<Figure size 432x288 with 1 Axes>"
            ]
          },
          "metadata": {
            "tags": []
          }
        }
      ]
    },
    {
      "cell_type": "code",
      "metadata": {
        "id": "GJRR2G0dfcrt",
        "colab_type": "code",
        "colab": {
          "base_uri": "https://localhost:8080/",
          "height": 402
        },
        "outputId": "38624354-b853-4166-ea38-3feda64273a8"
      },
      "source": [
        "\n",
        "# Фильтр по пустым значениям поля salary \n",
        "data[data['salary'].isnull()]"
      ],
      "execution_count": 24,
      "outputs": [
        {
          "output_type": "execute_result",
          "data": {
            "text/html": [
              "<div>\n",
              "<style scoped>\n",
              "    .dataframe tbody tr th:only-of-type {\n",
              "        vertical-align: middle;\n",
              "    }\n",
              "\n",
              "    .dataframe tbody tr th {\n",
              "        vertical-align: top;\n",
              "    }\n",
              "\n",
              "    .dataframe thead th {\n",
              "        text-align: right;\n",
              "    }\n",
              "</style>\n",
              "<table border=\"1\" class=\"dataframe\">\n",
              "  <thead>\n",
              "    <tr style=\"text-align: right;\">\n",
              "      <th></th>\n",
              "      <th>sl_no</th>\n",
              "      <th>gender</th>\n",
              "      <th>ssc_p</th>\n",
              "      <th>ssc_b</th>\n",
              "      <th>hsc_p</th>\n",
              "      <th>hsc_b</th>\n",
              "      <th>hsc_s</th>\n",
              "      <th>degree_p</th>\n",
              "      <th>degree_t</th>\n",
              "      <th>workex</th>\n",
              "      <th>etest_p</th>\n",
              "      <th>specialisation</th>\n",
              "      <th>mba_p</th>\n",
              "      <th>status</th>\n",
              "      <th>salary</th>\n",
              "    </tr>\n",
              "  </thead>\n",
              "  <tbody>\n",
              "    <tr>\n",
              "      <th>3</th>\n",
              "      <td>4</td>\n",
              "      <td>M</td>\n",
              "      <td>56.0</td>\n",
              "      <td>Central</td>\n",
              "      <td>52.0</td>\n",
              "      <td>Central</td>\n",
              "      <td>Science</td>\n",
              "      <td>52.00</td>\n",
              "      <td>Sci&amp;Tech</td>\n",
              "      <td>No</td>\n",
              "      <td>66.00</td>\n",
              "      <td>Mkt&amp;HR</td>\n",
              "      <td>59.43</td>\n",
              "      <td>Not Placed</td>\n",
              "      <td>NaN</td>\n",
              "    </tr>\n",
              "    <tr>\n",
              "      <th>5</th>\n",
              "      <td>6</td>\n",
              "      <td>M</td>\n",
              "      <td>55.0</td>\n",
              "      <td>Others</td>\n",
              "      <td>49.8</td>\n",
              "      <td>Others</td>\n",
              "      <td>Science</td>\n",
              "      <td>67.25</td>\n",
              "      <td>Sci&amp;Tech</td>\n",
              "      <td>Yes</td>\n",
              "      <td>55.00</td>\n",
              "      <td>Mkt&amp;Fin</td>\n",
              "      <td>51.58</td>\n",
              "      <td>Not Placed</td>\n",
              "      <td>NaN</td>\n",
              "    </tr>\n",
              "    <tr>\n",
              "      <th>6</th>\n",
              "      <td>7</td>\n",
              "      <td>F</td>\n",
              "      <td>46.0</td>\n",
              "      <td>Others</td>\n",
              "      <td>49.2</td>\n",
              "      <td>Others</td>\n",
              "      <td>Commerce</td>\n",
              "      <td>79.00</td>\n",
              "      <td>Comm&amp;Mgmt</td>\n",
              "      <td>No</td>\n",
              "      <td>74.28</td>\n",
              "      <td>Mkt&amp;Fin</td>\n",
              "      <td>53.29</td>\n",
              "      <td>Not Placed</td>\n",
              "      <td>NaN</td>\n",
              "    </tr>\n",
              "    <tr>\n",
              "      <th>9</th>\n",
              "      <td>10</td>\n",
              "      <td>M</td>\n",
              "      <td>58.0</td>\n",
              "      <td>Central</td>\n",
              "      <td>70.0</td>\n",
              "      <td>Central</td>\n",
              "      <td>Commerce</td>\n",
              "      <td>61.00</td>\n",
              "      <td>Comm&amp;Mgmt</td>\n",
              "      <td>No</td>\n",
              "      <td>54.00</td>\n",
              "      <td>Mkt&amp;Fin</td>\n",
              "      <td>52.21</td>\n",
              "      <td>Not Placed</td>\n",
              "      <td>NaN</td>\n",
              "    </tr>\n",
              "    <tr>\n",
              "      <th>12</th>\n",
              "      <td>13</td>\n",
              "      <td>F</td>\n",
              "      <td>47.0</td>\n",
              "      <td>Central</td>\n",
              "      <td>55.0</td>\n",
              "      <td>Others</td>\n",
              "      <td>Science</td>\n",
              "      <td>65.00</td>\n",
              "      <td>Comm&amp;Mgmt</td>\n",
              "      <td>No</td>\n",
              "      <td>62.00</td>\n",
              "      <td>Mkt&amp;HR</td>\n",
              "      <td>65.04</td>\n",
              "      <td>Not Placed</td>\n",
              "      <td>NaN</td>\n",
              "    </tr>\n",
              "    <tr>\n",
              "      <th>...</th>\n",
              "      <td>...</td>\n",
              "      <td>...</td>\n",
              "      <td>...</td>\n",
              "      <td>...</td>\n",
              "      <td>...</td>\n",
              "      <td>...</td>\n",
              "      <td>...</td>\n",
              "      <td>...</td>\n",
              "      <td>...</td>\n",
              "      <td>...</td>\n",
              "      <td>...</td>\n",
              "      <td>...</td>\n",
              "      <td>...</td>\n",
              "      <td>...</td>\n",
              "      <td>...</td>\n",
              "    </tr>\n",
              "    <tr>\n",
              "      <th>198</th>\n",
              "      <td>199</td>\n",
              "      <td>F</td>\n",
              "      <td>67.0</td>\n",
              "      <td>Central</td>\n",
              "      <td>70.0</td>\n",
              "      <td>Central</td>\n",
              "      <td>Commerce</td>\n",
              "      <td>65.00</td>\n",
              "      <td>Others</td>\n",
              "      <td>No</td>\n",
              "      <td>88.00</td>\n",
              "      <td>Mkt&amp;HR</td>\n",
              "      <td>71.96</td>\n",
              "      <td>Not Placed</td>\n",
              "      <td>NaN</td>\n",
              "    </tr>\n",
              "    <tr>\n",
              "      <th>201</th>\n",
              "      <td>202</td>\n",
              "      <td>M</td>\n",
              "      <td>54.2</td>\n",
              "      <td>Central</td>\n",
              "      <td>63.0</td>\n",
              "      <td>Others</td>\n",
              "      <td>Science</td>\n",
              "      <td>58.00</td>\n",
              "      <td>Comm&amp;Mgmt</td>\n",
              "      <td>No</td>\n",
              "      <td>79.00</td>\n",
              "      <td>Mkt&amp;HR</td>\n",
              "      <td>58.44</td>\n",
              "      <td>Not Placed</td>\n",
              "      <td>NaN</td>\n",
              "    </tr>\n",
              "    <tr>\n",
              "      <th>206</th>\n",
              "      <td>207</td>\n",
              "      <td>M</td>\n",
              "      <td>41.0</td>\n",
              "      <td>Central</td>\n",
              "      <td>42.0</td>\n",
              "      <td>Central</td>\n",
              "      <td>Science</td>\n",
              "      <td>60.00</td>\n",
              "      <td>Comm&amp;Mgmt</td>\n",
              "      <td>No</td>\n",
              "      <td>97.00</td>\n",
              "      <td>Mkt&amp;Fin</td>\n",
              "      <td>53.39</td>\n",
              "      <td>Not Placed</td>\n",
              "      <td>NaN</td>\n",
              "    </tr>\n",
              "    <tr>\n",
              "      <th>208</th>\n",
              "      <td>209</td>\n",
              "      <td>F</td>\n",
              "      <td>43.0</td>\n",
              "      <td>Central</td>\n",
              "      <td>60.0</td>\n",
              "      <td>Others</td>\n",
              "      <td>Science</td>\n",
              "      <td>65.00</td>\n",
              "      <td>Comm&amp;Mgmt</td>\n",
              "      <td>No</td>\n",
              "      <td>92.66</td>\n",
              "      <td>Mkt&amp;HR</td>\n",
              "      <td>62.92</td>\n",
              "      <td>Not Placed</td>\n",
              "      <td>NaN</td>\n",
              "    </tr>\n",
              "    <tr>\n",
              "      <th>214</th>\n",
              "      <td>215</td>\n",
              "      <td>M</td>\n",
              "      <td>62.0</td>\n",
              "      <td>Central</td>\n",
              "      <td>58.0</td>\n",
              "      <td>Others</td>\n",
              "      <td>Science</td>\n",
              "      <td>53.00</td>\n",
              "      <td>Comm&amp;Mgmt</td>\n",
              "      <td>No</td>\n",
              "      <td>89.00</td>\n",
              "      <td>Mkt&amp;HR</td>\n",
              "      <td>60.22</td>\n",
              "      <td>Not Placed</td>\n",
              "      <td>NaN</td>\n",
              "    </tr>\n",
              "  </tbody>\n",
              "</table>\n",
              "<p>67 rows × 15 columns</p>\n",
              "</div>"
            ],
            "text/plain": [
              "     sl_no gender  ssc_p    ssc_b  ...  specialisation  mba_p      status  salary\n",
              "3        4      M   56.0  Central  ...          Mkt&HR  59.43  Not Placed     NaN\n",
              "5        6      M   55.0   Others  ...         Mkt&Fin  51.58  Not Placed     NaN\n",
              "6        7      F   46.0   Others  ...         Mkt&Fin  53.29  Not Placed     NaN\n",
              "9       10      M   58.0  Central  ...         Mkt&Fin  52.21  Not Placed     NaN\n",
              "12      13      F   47.0  Central  ...          Mkt&HR  65.04  Not Placed     NaN\n",
              "..     ...    ...    ...      ...  ...             ...    ...         ...     ...\n",
              "198    199      F   67.0  Central  ...          Mkt&HR  71.96  Not Placed     NaN\n",
              "201    202      M   54.2  Central  ...          Mkt&HR  58.44  Not Placed     NaN\n",
              "206    207      M   41.0  Central  ...         Mkt&Fin  53.39  Not Placed     NaN\n",
              "208    209      F   43.0  Central  ...          Mkt&HR  62.92  Not Placed     NaN\n",
              "214    215      M   62.0  Central  ...          Mkt&HR  60.22  Not Placed     NaN\n",
              "\n",
              "[67 rows x 15 columns]"
            ]
          },
          "metadata": {
            "tags": []
          },
          "execution_count": 24
        }
      ]
    },
    {
      "cell_type": "code",
      "metadata": {
        "id": "qOxh021pftiu",
        "colab_type": "code",
        "colab": {
          "base_uri": "https://localhost:8080/",
          "height": 140
        },
        "outputId": "4185c9c3-82f9-4475-8dbd-a630a7724fc6"
      },
      "source": [
        "# Запоминаем индексы строк с пустыми значениями\n",
        "flt_index = data[data['salary'].isnull()].index\n",
        "flt_index"
      ],
      "execution_count": 25,
      "outputs": [
        {
          "output_type": "execute_result",
          "data": {
            "text/plain": [
              "Int64Index([  3,   5,   6,   9,  12,  14,  17,  18,  25,  29,  31,  34,  36,\n",
              "             41,  42,  45,  46,  49,  51,  52,  63,  65,  68,  75,  79,  82,\n",
              "             87,  91,  93,  97,  99, 100, 105, 106, 109, 111, 120, 130, 136,\n",
              "            141, 144, 149, 155, 158, 159, 161, 165, 167, 168, 169, 170, 173,\n",
              "            175, 179, 181, 182, 184, 186, 188, 189, 190, 194, 198, 201, 206,\n",
              "            208, 214],\n",
              "           dtype='int64')"
            ]
          },
          "metadata": {
            "tags": []
          },
          "execution_count": 25
        }
      ]
    },
    {
      "cell_type": "code",
      "metadata": {
        "id": "hYzM6aLNgSOj",
        "colab_type": "code",
        "colab": {
          "base_uri": "https://localhost:8080/",
          "height": 402
        },
        "outputId": "b3022810-33d8-4a6d-f0e6-f01ee3e54a37"
      },
      "source": [
        "# Проверяем что выводятся нужные строки\n",
        "data[data.index.isin(flt_index)]"
      ],
      "execution_count": 26,
      "outputs": [
        {
          "output_type": "execute_result",
          "data": {
            "text/html": [
              "<div>\n",
              "<style scoped>\n",
              "    .dataframe tbody tr th:only-of-type {\n",
              "        vertical-align: middle;\n",
              "    }\n",
              "\n",
              "    .dataframe tbody tr th {\n",
              "        vertical-align: top;\n",
              "    }\n",
              "\n",
              "    .dataframe thead th {\n",
              "        text-align: right;\n",
              "    }\n",
              "</style>\n",
              "<table border=\"1\" class=\"dataframe\">\n",
              "  <thead>\n",
              "    <tr style=\"text-align: right;\">\n",
              "      <th></th>\n",
              "      <th>sl_no</th>\n",
              "      <th>gender</th>\n",
              "      <th>ssc_p</th>\n",
              "      <th>ssc_b</th>\n",
              "      <th>hsc_p</th>\n",
              "      <th>hsc_b</th>\n",
              "      <th>hsc_s</th>\n",
              "      <th>degree_p</th>\n",
              "      <th>degree_t</th>\n",
              "      <th>workex</th>\n",
              "      <th>etest_p</th>\n",
              "      <th>specialisation</th>\n",
              "      <th>mba_p</th>\n",
              "      <th>status</th>\n",
              "      <th>salary</th>\n",
              "    </tr>\n",
              "  </thead>\n",
              "  <tbody>\n",
              "    <tr>\n",
              "      <th>3</th>\n",
              "      <td>4</td>\n",
              "      <td>M</td>\n",
              "      <td>56.0</td>\n",
              "      <td>Central</td>\n",
              "      <td>52.0</td>\n",
              "      <td>Central</td>\n",
              "      <td>Science</td>\n",
              "      <td>52.00</td>\n",
              "      <td>Sci&amp;Tech</td>\n",
              "      <td>No</td>\n",
              "      <td>66.00</td>\n",
              "      <td>Mkt&amp;HR</td>\n",
              "      <td>59.43</td>\n",
              "      <td>Not Placed</td>\n",
              "      <td>NaN</td>\n",
              "    </tr>\n",
              "    <tr>\n",
              "      <th>5</th>\n",
              "      <td>6</td>\n",
              "      <td>M</td>\n",
              "      <td>55.0</td>\n",
              "      <td>Others</td>\n",
              "      <td>49.8</td>\n",
              "      <td>Others</td>\n",
              "      <td>Science</td>\n",
              "      <td>67.25</td>\n",
              "      <td>Sci&amp;Tech</td>\n",
              "      <td>Yes</td>\n",
              "      <td>55.00</td>\n",
              "      <td>Mkt&amp;Fin</td>\n",
              "      <td>51.58</td>\n",
              "      <td>Not Placed</td>\n",
              "      <td>NaN</td>\n",
              "    </tr>\n",
              "    <tr>\n",
              "      <th>6</th>\n",
              "      <td>7</td>\n",
              "      <td>F</td>\n",
              "      <td>46.0</td>\n",
              "      <td>Others</td>\n",
              "      <td>49.2</td>\n",
              "      <td>Others</td>\n",
              "      <td>Commerce</td>\n",
              "      <td>79.00</td>\n",
              "      <td>Comm&amp;Mgmt</td>\n",
              "      <td>No</td>\n",
              "      <td>74.28</td>\n",
              "      <td>Mkt&amp;Fin</td>\n",
              "      <td>53.29</td>\n",
              "      <td>Not Placed</td>\n",
              "      <td>NaN</td>\n",
              "    </tr>\n",
              "    <tr>\n",
              "      <th>9</th>\n",
              "      <td>10</td>\n",
              "      <td>M</td>\n",
              "      <td>58.0</td>\n",
              "      <td>Central</td>\n",
              "      <td>70.0</td>\n",
              "      <td>Central</td>\n",
              "      <td>Commerce</td>\n",
              "      <td>61.00</td>\n",
              "      <td>Comm&amp;Mgmt</td>\n",
              "      <td>No</td>\n",
              "      <td>54.00</td>\n",
              "      <td>Mkt&amp;Fin</td>\n",
              "      <td>52.21</td>\n",
              "      <td>Not Placed</td>\n",
              "      <td>NaN</td>\n",
              "    </tr>\n",
              "    <tr>\n",
              "      <th>12</th>\n",
              "      <td>13</td>\n",
              "      <td>F</td>\n",
              "      <td>47.0</td>\n",
              "      <td>Central</td>\n",
              "      <td>55.0</td>\n",
              "      <td>Others</td>\n",
              "      <td>Science</td>\n",
              "      <td>65.00</td>\n",
              "      <td>Comm&amp;Mgmt</td>\n",
              "      <td>No</td>\n",
              "      <td>62.00</td>\n",
              "      <td>Mkt&amp;HR</td>\n",
              "      <td>65.04</td>\n",
              "      <td>Not Placed</td>\n",
              "      <td>NaN</td>\n",
              "    </tr>\n",
              "    <tr>\n",
              "      <th>...</th>\n",
              "      <td>...</td>\n",
              "      <td>...</td>\n",
              "      <td>...</td>\n",
              "      <td>...</td>\n",
              "      <td>...</td>\n",
              "      <td>...</td>\n",
              "      <td>...</td>\n",
              "      <td>...</td>\n",
              "      <td>...</td>\n",
              "      <td>...</td>\n",
              "      <td>...</td>\n",
              "      <td>...</td>\n",
              "      <td>...</td>\n",
              "      <td>...</td>\n",
              "      <td>...</td>\n",
              "    </tr>\n",
              "    <tr>\n",
              "      <th>198</th>\n",
              "      <td>199</td>\n",
              "      <td>F</td>\n",
              "      <td>67.0</td>\n",
              "      <td>Central</td>\n",
              "      <td>70.0</td>\n",
              "      <td>Central</td>\n",
              "      <td>Commerce</td>\n",
              "      <td>65.00</td>\n",
              "      <td>Others</td>\n",
              "      <td>No</td>\n",
              "      <td>88.00</td>\n",
              "      <td>Mkt&amp;HR</td>\n",
              "      <td>71.96</td>\n",
              "      <td>Not Placed</td>\n",
              "      <td>NaN</td>\n",
              "    </tr>\n",
              "    <tr>\n",
              "      <th>201</th>\n",
              "      <td>202</td>\n",
              "      <td>M</td>\n",
              "      <td>54.2</td>\n",
              "      <td>Central</td>\n",
              "      <td>63.0</td>\n",
              "      <td>Others</td>\n",
              "      <td>Science</td>\n",
              "      <td>58.00</td>\n",
              "      <td>Comm&amp;Mgmt</td>\n",
              "      <td>No</td>\n",
              "      <td>79.00</td>\n",
              "      <td>Mkt&amp;HR</td>\n",
              "      <td>58.44</td>\n",
              "      <td>Not Placed</td>\n",
              "      <td>NaN</td>\n",
              "    </tr>\n",
              "    <tr>\n",
              "      <th>206</th>\n",
              "      <td>207</td>\n",
              "      <td>M</td>\n",
              "      <td>41.0</td>\n",
              "      <td>Central</td>\n",
              "      <td>42.0</td>\n",
              "      <td>Central</td>\n",
              "      <td>Science</td>\n",
              "      <td>60.00</td>\n",
              "      <td>Comm&amp;Mgmt</td>\n",
              "      <td>No</td>\n",
              "      <td>97.00</td>\n",
              "      <td>Mkt&amp;Fin</td>\n",
              "      <td>53.39</td>\n",
              "      <td>Not Placed</td>\n",
              "      <td>NaN</td>\n",
              "    </tr>\n",
              "    <tr>\n",
              "      <th>208</th>\n",
              "      <td>209</td>\n",
              "      <td>F</td>\n",
              "      <td>43.0</td>\n",
              "      <td>Central</td>\n",
              "      <td>60.0</td>\n",
              "      <td>Others</td>\n",
              "      <td>Science</td>\n",
              "      <td>65.00</td>\n",
              "      <td>Comm&amp;Mgmt</td>\n",
              "      <td>No</td>\n",
              "      <td>92.66</td>\n",
              "      <td>Mkt&amp;HR</td>\n",
              "      <td>62.92</td>\n",
              "      <td>Not Placed</td>\n",
              "      <td>NaN</td>\n",
              "    </tr>\n",
              "    <tr>\n",
              "      <th>214</th>\n",
              "      <td>215</td>\n",
              "      <td>M</td>\n",
              "      <td>62.0</td>\n",
              "      <td>Central</td>\n",
              "      <td>58.0</td>\n",
              "      <td>Others</td>\n",
              "      <td>Science</td>\n",
              "      <td>53.00</td>\n",
              "      <td>Comm&amp;Mgmt</td>\n",
              "      <td>No</td>\n",
              "      <td>89.00</td>\n",
              "      <td>Mkt&amp;HR</td>\n",
              "      <td>60.22</td>\n",
              "      <td>Not Placed</td>\n",
              "      <td>NaN</td>\n",
              "    </tr>\n",
              "  </tbody>\n",
              "</table>\n",
              "<p>67 rows × 15 columns</p>\n",
              "</div>"
            ],
            "text/plain": [
              "     sl_no gender  ssc_p    ssc_b  ...  specialisation  mba_p      status  salary\n",
              "3        4      M   56.0  Central  ...          Mkt&HR  59.43  Not Placed     NaN\n",
              "5        6      M   55.0   Others  ...         Mkt&Fin  51.58  Not Placed     NaN\n",
              "6        7      F   46.0   Others  ...         Mkt&Fin  53.29  Not Placed     NaN\n",
              "9       10      M   58.0  Central  ...         Mkt&Fin  52.21  Not Placed     NaN\n",
              "12      13      F   47.0  Central  ...          Mkt&HR  65.04  Not Placed     NaN\n",
              "..     ...    ...    ...      ...  ...             ...    ...         ...     ...\n",
              "198    199      F   67.0  Central  ...          Mkt&HR  71.96  Not Placed     NaN\n",
              "201    202      M   54.2  Central  ...          Mkt&HR  58.44  Not Placed     NaN\n",
              "206    207      M   41.0  Central  ...         Mkt&Fin  53.39  Not Placed     NaN\n",
              "208    209      F   43.0  Central  ...          Mkt&HR  62.92  Not Placed     NaN\n",
              "214    215      M   62.0  Central  ...          Mkt&HR  60.22  Not Placed     NaN\n",
              "\n",
              "[67 rows x 15 columns]"
            ]
          },
          "metadata": {
            "tags": []
          },
          "execution_count": 26
        }
      ]
    },
    {
      "cell_type": "code",
      "metadata": {
        "id": "U3aGIj40ggfk",
        "colab_type": "code",
        "colab": {
          "base_uri": "https://localhost:8080/",
          "height": 228
        },
        "outputId": "9ee20983-0e3a-4baa-8ff5-f97ba38ddc4e"
      },
      "source": [
        "\n",
        "# фильтр по колонке\n",
        "data_num[data_num.index.isin(flt_index)]['salary']"
      ],
      "execution_count": 27,
      "outputs": [
        {
          "output_type": "execute_result",
          "data": {
            "text/plain": [
              "3     NaN\n",
              "5     NaN\n",
              "6     NaN\n",
              "9     NaN\n",
              "12    NaN\n",
              "       ..\n",
              "198   NaN\n",
              "201   NaN\n",
              "206   NaN\n",
              "208   NaN\n",
              "214   NaN\n",
              "Name: salary, Length: 67, dtype: float64"
            ]
          },
          "metadata": {
            "tags": []
          },
          "execution_count": 27
        }
      ]
    },
    {
      "cell_type": "code",
      "metadata": {
        "id": "QnfudJ4Kgszr",
        "colab_type": "code",
        "colab": {
          "base_uri": "https://localhost:8080/",
          "height": 195
        },
        "outputId": "601f2d41-11e4-41fd-bf7f-82c975877e62"
      },
      "source": [
        "data_num_salary = data_num[['salary']]\n",
        "data_num_salary.head()"
      ],
      "execution_count": 28,
      "outputs": [
        {
          "output_type": "execute_result",
          "data": {
            "text/html": [
              "<div>\n",
              "<style scoped>\n",
              "    .dataframe tbody tr th:only-of-type {\n",
              "        vertical-align: middle;\n",
              "    }\n",
              "\n",
              "    .dataframe tbody tr th {\n",
              "        vertical-align: top;\n",
              "    }\n",
              "\n",
              "    .dataframe thead th {\n",
              "        text-align: right;\n",
              "    }\n",
              "</style>\n",
              "<table border=\"1\" class=\"dataframe\">\n",
              "  <thead>\n",
              "    <tr style=\"text-align: right;\">\n",
              "      <th></th>\n",
              "      <th>salary</th>\n",
              "    </tr>\n",
              "  </thead>\n",
              "  <tbody>\n",
              "    <tr>\n",
              "      <th>0</th>\n",
              "      <td>270000.0</td>\n",
              "    </tr>\n",
              "    <tr>\n",
              "      <th>1</th>\n",
              "      <td>200000.0</td>\n",
              "    </tr>\n",
              "    <tr>\n",
              "      <th>2</th>\n",
              "      <td>250000.0</td>\n",
              "    </tr>\n",
              "    <tr>\n",
              "      <th>3</th>\n",
              "      <td>NaN</td>\n",
              "    </tr>\n",
              "    <tr>\n",
              "      <th>4</th>\n",
              "      <td>425000.0</td>\n",
              "    </tr>\n",
              "  </tbody>\n",
              "</table>\n",
              "</div>"
            ],
            "text/plain": [
              "     salary\n",
              "0  270000.0\n",
              "1  200000.0\n",
              "2  250000.0\n",
              "3       NaN\n",
              "4  425000.0"
            ]
          },
          "metadata": {
            "tags": []
          },
          "execution_count": 28
        }
      ]
    },
    {
      "cell_type": "code",
      "metadata": {
        "id": "akcEzxJPg1qt",
        "colab_type": "code",
        "colab": {}
      },
      "source": [
        "from sklearn.impute import SimpleImputer\n",
        "from sklearn.impute import MissingIndicator"
      ],
      "execution_count": 0,
      "outputs": []
    },
    {
      "cell_type": "code",
      "metadata": {
        "id": "4VlqG8Veg3Q1",
        "colab_type": "code",
        "colab": {
          "base_uri": "https://localhost:8080/",
          "height": 1000
        },
        "outputId": "2d26c7a1-1ee6-4651-e6db-7164fd870e12"
      },
      "source": [
        "# Фильтр для проверки заполнения пустых значений\n",
        "indicator = MissingIndicator()\n",
        "mask_missing_values_only = indicator.fit_transform(data_num_salary)\n",
        "mask_missing_values_only"
      ],
      "execution_count": 30,
      "outputs": [
        {
          "output_type": "execute_result",
          "data": {
            "text/plain": [
              "array([[False],\n",
              "       [False],\n",
              "       [False],\n",
              "       [ True],\n",
              "       [False],\n",
              "       [ True],\n",
              "       [ True],\n",
              "       [False],\n",
              "       [False],\n",
              "       [ True],\n",
              "       [False],\n",
              "       [False],\n",
              "       [ True],\n",
              "       [False],\n",
              "       [ True],\n",
              "       [False],\n",
              "       [False],\n",
              "       [ True],\n",
              "       [ True],\n",
              "       [False],\n",
              "       [False],\n",
              "       [False],\n",
              "       [False],\n",
              "       [False],\n",
              "       [False],\n",
              "       [ True],\n",
              "       [False],\n",
              "       [False],\n",
              "       [False],\n",
              "       [ True],\n",
              "       [False],\n",
              "       [ True],\n",
              "       [False],\n",
              "       [False],\n",
              "       [ True],\n",
              "       [False],\n",
              "       [ True],\n",
              "       [False],\n",
              "       [False],\n",
              "       [False],\n",
              "       [False],\n",
              "       [ True],\n",
              "       [ True],\n",
              "       [False],\n",
              "       [False],\n",
              "       [ True],\n",
              "       [ True],\n",
              "       [False],\n",
              "       [False],\n",
              "       [ True],\n",
              "       [False],\n",
              "       [ True],\n",
              "       [ True],\n",
              "       [False],\n",
              "       [False],\n",
              "       [False],\n",
              "       [False],\n",
              "       [False],\n",
              "       [False],\n",
              "       [False],\n",
              "       [False],\n",
              "       [False],\n",
              "       [False],\n",
              "       [ True],\n",
              "       [False],\n",
              "       [ True],\n",
              "       [False],\n",
              "       [False],\n",
              "       [ True],\n",
              "       [False],\n",
              "       [False],\n",
              "       [False],\n",
              "       [False],\n",
              "       [False],\n",
              "       [False],\n",
              "       [ True],\n",
              "       [False],\n",
              "       [False],\n",
              "       [False],\n",
              "       [ True],\n",
              "       [False],\n",
              "       [False],\n",
              "       [ True],\n",
              "       [False],\n",
              "       [False],\n",
              "       [False],\n",
              "       [False],\n",
              "       [ True],\n",
              "       [False],\n",
              "       [False],\n",
              "       [False],\n",
              "       [ True],\n",
              "       [False],\n",
              "       [ True],\n",
              "       [False],\n",
              "       [False],\n",
              "       [False],\n",
              "       [ True],\n",
              "       [False],\n",
              "       [ True],\n",
              "       [ True],\n",
              "       [False],\n",
              "       [False],\n",
              "       [False],\n",
              "       [False],\n",
              "       [ True],\n",
              "       [ True],\n",
              "       [False],\n",
              "       [False],\n",
              "       [ True],\n",
              "       [False],\n",
              "       [ True],\n",
              "       [False],\n",
              "       [False],\n",
              "       [False],\n",
              "       [False],\n",
              "       [False],\n",
              "       [False],\n",
              "       [False],\n",
              "       [False],\n",
              "       [ True],\n",
              "       [False],\n",
              "       [False],\n",
              "       [False],\n",
              "       [False],\n",
              "       [False],\n",
              "       [False],\n",
              "       [False],\n",
              "       [False],\n",
              "       [False],\n",
              "       [ True],\n",
              "       [False],\n",
              "       [False],\n",
              "       [False],\n",
              "       [False],\n",
              "       [False],\n",
              "       [ True],\n",
              "       [False],\n",
              "       [False],\n",
              "       [False],\n",
              "       [False],\n",
              "       [ True],\n",
              "       [False],\n",
              "       [False],\n",
              "       [ True],\n",
              "       [False],\n",
              "       [False],\n",
              "       [False],\n",
              "       [False],\n",
              "       [ True],\n",
              "       [False],\n",
              "       [False],\n",
              "       [False],\n",
              "       [False],\n",
              "       [False],\n",
              "       [ True],\n",
              "       [False],\n",
              "       [False],\n",
              "       [ True],\n",
              "       [ True],\n",
              "       [False],\n",
              "       [ True],\n",
              "       [False],\n",
              "       [False],\n",
              "       [False],\n",
              "       [ True],\n",
              "       [False],\n",
              "       [ True],\n",
              "       [ True],\n",
              "       [ True],\n",
              "       [ True],\n",
              "       [False],\n",
              "       [False],\n",
              "       [ True],\n",
              "       [False],\n",
              "       [ True],\n",
              "       [False],\n",
              "       [False],\n",
              "       [False],\n",
              "       [ True],\n",
              "       [False],\n",
              "       [ True],\n",
              "       [ True],\n",
              "       [False],\n",
              "       [ True],\n",
              "       [False],\n",
              "       [ True],\n",
              "       [False],\n",
              "       [ True],\n",
              "       [ True],\n",
              "       [ True],\n",
              "       [False],\n",
              "       [False],\n",
              "       [False],\n",
              "       [ True],\n",
              "       [False],\n",
              "       [False],\n",
              "       [False],\n",
              "       [ True],\n",
              "       [False],\n",
              "       [False],\n",
              "       [ True],\n",
              "       [False],\n",
              "       [False],\n",
              "       [False],\n",
              "       [False],\n",
              "       [ True],\n",
              "       [False],\n",
              "       [ True],\n",
              "       [False],\n",
              "       [False],\n",
              "       [False],\n",
              "       [False],\n",
              "       [False],\n",
              "       [ True]])"
            ]
          },
          "metadata": {
            "tags": []
          },
          "execution_count": 30
        }
      ]
    },
    {
      "cell_type": "code",
      "metadata": {
        "id": "xkfcPYN4rhqT",
        "colab_type": "code",
        "colab": {}
      },
      "source": [
        "strategies=['mean', 'median','most_frequent']"
      ],
      "execution_count": 0,
      "outputs": []
    },
    {
      "cell_type": "code",
      "metadata": {
        "id": "y3H3mJGvrZuB",
        "colab_type": "code",
        "colab": {}
      },
      "source": [
        "def test_num_impute(strategy_param):\n",
        "    imp_num = SimpleImputer(strategy=strategy_param)\n",
        "    data_num_imp = imp_num.fit_transform(data_num_salary)\n",
        "    return data_num_imp[mask_missing_values_only]"
      ],
      "execution_count": 0,
      "outputs": []
    },
    {
      "cell_type": "code",
      "metadata": {
        "id": "7junbpRorySD",
        "colab_type": "code",
        "colab": {
          "base_uri": "https://localhost:8080/",
          "height": 334
        },
        "outputId": "17ea4308-5c53-4d29-e419-614d9b7589d5"
      },
      "source": [
        "strategies[0], test_num_impute(strategies[0])"
      ],
      "execution_count": 33,
      "outputs": [
        {
          "output_type": "execute_result",
          "data": {
            "text/plain": [
              "('mean',\n",
              " array([288655.40540541, 288655.40540541, 288655.40540541, 288655.40540541,\n",
              "        288655.40540541, 288655.40540541, 288655.40540541, 288655.40540541,\n",
              "        288655.40540541, 288655.40540541, 288655.40540541, 288655.40540541,\n",
              "        288655.40540541, 288655.40540541, 288655.40540541, 288655.40540541,\n",
              "        288655.40540541, 288655.40540541, 288655.40540541, 288655.40540541,\n",
              "        288655.40540541, 288655.40540541, 288655.40540541, 288655.40540541,\n",
              "        288655.40540541, 288655.40540541, 288655.40540541, 288655.40540541,\n",
              "        288655.40540541, 288655.40540541, 288655.40540541, 288655.40540541,\n",
              "        288655.40540541, 288655.40540541, 288655.40540541, 288655.40540541,\n",
              "        288655.40540541, 288655.40540541, 288655.40540541, 288655.40540541,\n",
              "        288655.40540541, 288655.40540541, 288655.40540541, 288655.40540541,\n",
              "        288655.40540541, 288655.40540541, 288655.40540541, 288655.40540541,\n",
              "        288655.40540541, 288655.40540541, 288655.40540541, 288655.40540541,\n",
              "        288655.40540541, 288655.40540541, 288655.40540541, 288655.40540541,\n",
              "        288655.40540541, 288655.40540541, 288655.40540541, 288655.40540541,\n",
              "        288655.40540541, 288655.40540541, 288655.40540541, 288655.40540541,\n",
              "        288655.40540541, 288655.40540541, 288655.40540541]))"
            ]
          },
          "metadata": {
            "tags": []
          },
          "execution_count": 33
        }
      ]
    },
    {
      "cell_type": "code",
      "metadata": {
        "id": "hqqWp1n_tdYN",
        "colab_type": "code",
        "colab": {
          "base_uri": "https://localhost:8080/",
          "height": 210
        },
        "outputId": "96690255-e416-4dfa-8904-c717678d6b44"
      },
      "source": [
        "strategies[1], test_num_impute(strategies[1])"
      ],
      "execution_count": 34,
      "outputs": [
        {
          "output_type": "execute_result",
          "data": {
            "text/plain": [
              "('median',\n",
              " array([265000., 265000., 265000., 265000., 265000., 265000., 265000.,\n",
              "        265000., 265000., 265000., 265000., 265000., 265000., 265000.,\n",
              "        265000., 265000., 265000., 265000., 265000., 265000., 265000.,\n",
              "        265000., 265000., 265000., 265000., 265000., 265000., 265000.,\n",
              "        265000., 265000., 265000., 265000., 265000., 265000., 265000.,\n",
              "        265000., 265000., 265000., 265000., 265000., 265000., 265000.,\n",
              "        265000., 265000., 265000., 265000., 265000., 265000., 265000.,\n",
              "        265000., 265000., 265000., 265000., 265000., 265000., 265000.,\n",
              "        265000., 265000., 265000., 265000., 265000., 265000., 265000.,\n",
              "        265000., 265000., 265000., 265000.]))"
            ]
          },
          "metadata": {
            "tags": []
          },
          "execution_count": 34
        }
      ]
    },
    {
      "cell_type": "code",
      "metadata": {
        "id": "IVPxhwwJtmGk",
        "colab_type": "code",
        "colab": {
          "base_uri": "https://localhost:8080/",
          "height": 210
        },
        "outputId": "9d49a479-2d11-4fa6-a2c4-3e0c83130bb3"
      },
      "source": [
        "strategies[2], test_num_impute(strategies[2])"
      ],
      "execution_count": 35,
      "outputs": [
        {
          "output_type": "execute_result",
          "data": {
            "text/plain": [
              "('most_frequent',\n",
              " array([300000., 300000., 300000., 300000., 300000., 300000., 300000.,\n",
              "        300000., 300000., 300000., 300000., 300000., 300000., 300000.,\n",
              "        300000., 300000., 300000., 300000., 300000., 300000., 300000.,\n",
              "        300000., 300000., 300000., 300000., 300000., 300000., 300000.,\n",
              "        300000., 300000., 300000., 300000., 300000., 300000., 300000.,\n",
              "        300000., 300000., 300000., 300000., 300000., 300000., 300000.,\n",
              "        300000., 300000., 300000., 300000., 300000., 300000., 300000.,\n",
              "        300000., 300000., 300000., 300000., 300000., 300000., 300000.,\n",
              "        300000., 300000., 300000., 300000., 300000., 300000., 300000.,\n",
              "        300000., 300000., 300000., 300000.]))"
            ]
          },
          "metadata": {
            "tags": []
          },
          "execution_count": 35
        }
      ]
    },
    {
      "cell_type": "code",
      "metadata": {
        "id": "1XPib69_t1_g",
        "colab_type": "code",
        "colab": {}
      },
      "source": [
        "# Более сложная функция, которая позволяет задавать колонку и вид импьютации\n",
        "def test_num_impute_col(dataset, column, strategy_param):\n",
        "    temp_data = dataset[[column]]\n",
        "    \n",
        "    indicator = MissingIndicator()\n",
        "    mask_missing_values_only = indicator.fit_transform(temp_data)\n",
        "    \n",
        "    imp_num = SimpleImputer(strategy=strategy_param)\n",
        "    data_num_imp = imp_num.fit_transform(temp_data)\n",
        "    \n",
        "    filled_data = data_num_imp[mask_missing_values_only]\n",
        "    \n",
        "    return column, strategy_param, filled_data.size, filled_data[0], filled_data[filled_data.size-1]"
      ],
      "execution_count": 0,
      "outputs": []
    },
    {
      "cell_type": "code",
      "metadata": {
        "id": "VG44-PdYv9Dy",
        "colab_type": "code",
        "colab": {
          "base_uri": "https://localhost:8080/",
          "height": 284
        },
        "outputId": "679bc977-13aa-4fd2-8166-f8b70d50c8ef"
      },
      "source": [
        "data[['salary']].describe()"
      ],
      "execution_count": 37,
      "outputs": [
        {
          "output_type": "execute_result",
          "data": {
            "text/html": [
              "<div>\n",
              "<style scoped>\n",
              "    .dataframe tbody tr th:only-of-type {\n",
              "        vertical-align: middle;\n",
              "    }\n",
              "\n",
              "    .dataframe tbody tr th {\n",
              "        vertical-align: top;\n",
              "    }\n",
              "\n",
              "    .dataframe thead th {\n",
              "        text-align: right;\n",
              "    }\n",
              "</style>\n",
              "<table border=\"1\" class=\"dataframe\">\n",
              "  <thead>\n",
              "    <tr style=\"text-align: right;\">\n",
              "      <th></th>\n",
              "      <th>salary</th>\n",
              "    </tr>\n",
              "  </thead>\n",
              "  <tbody>\n",
              "    <tr>\n",
              "      <th>count</th>\n",
              "      <td>148.000000</td>\n",
              "    </tr>\n",
              "    <tr>\n",
              "      <th>mean</th>\n",
              "      <td>288655.405405</td>\n",
              "    </tr>\n",
              "    <tr>\n",
              "      <th>std</th>\n",
              "      <td>93457.452420</td>\n",
              "    </tr>\n",
              "    <tr>\n",
              "      <th>min</th>\n",
              "      <td>200000.000000</td>\n",
              "    </tr>\n",
              "    <tr>\n",
              "      <th>25%</th>\n",
              "      <td>240000.000000</td>\n",
              "    </tr>\n",
              "    <tr>\n",
              "      <th>50%</th>\n",
              "      <td>265000.000000</td>\n",
              "    </tr>\n",
              "    <tr>\n",
              "      <th>75%</th>\n",
              "      <td>300000.000000</td>\n",
              "    </tr>\n",
              "    <tr>\n",
              "      <th>max</th>\n",
              "      <td>940000.000000</td>\n",
              "    </tr>\n",
              "  </tbody>\n",
              "</table>\n",
              "</div>"
            ],
            "text/plain": [
              "              salary\n",
              "count     148.000000\n",
              "mean   288655.405405\n",
              "std     93457.452420\n",
              "min    200000.000000\n",
              "25%    240000.000000\n",
              "50%    265000.000000\n",
              "75%    300000.000000\n",
              "max    940000.000000"
            ]
          },
          "metadata": {
            "tags": []
          },
          "execution_count": 37
        }
      ]
    },
    {
      "cell_type": "code",
      "metadata": {
        "id": "1qq_bSnOwTTp",
        "colab_type": "code",
        "colab": {
          "base_uri": "https://localhost:8080/",
          "height": 34
        },
        "outputId": "f9928f7e-314b-445b-d6f4-75c98c6376c2"
      },
      "source": [
        "test_num_impute_col(data, 'salary', strategies[0])"
      ],
      "execution_count": 39,
      "outputs": [
        {
          "output_type": "execute_result",
          "data": {
            "text/plain": [
              "('salary', 'mean', 67, 288655.4054054054, 288655.4054054054)"
            ]
          },
          "metadata": {
            "tags": []
          },
          "execution_count": 39
        }
      ]
    },
    {
      "cell_type": "code",
      "metadata": {
        "id": "v7vyfFqKwaD1",
        "colab_type": "code",
        "colab": {
          "base_uri": "https://localhost:8080/",
          "height": 34
        },
        "outputId": "18eceb07-9579-4ddc-87c6-a97e6fe3f1f2"
      },
      "source": [
        "test_num_impute_col(data, 'salary', strategies[1])"
      ],
      "execution_count": 41,
      "outputs": [
        {
          "output_type": "execute_result",
          "data": {
            "text/plain": [
              "('salary', 'median', 67, 265000.0, 265000.0)"
            ]
          },
          "metadata": {
            "tags": []
          },
          "execution_count": 41
        }
      ]
    },
    {
      "cell_type": "code",
      "metadata": {
        "id": "9XvV2KeNxE_I",
        "colab_type": "code",
        "colab": {
          "base_uri": "https://localhost:8080/",
          "height": 34
        },
        "outputId": "60e433ef-8690-428c-af33-29a0e798141a"
      },
      "source": [
        "test_num_impute_col(data, 'salary', strategies[2])"
      ],
      "execution_count": 43,
      "outputs": [
        {
          "output_type": "execute_result",
          "data": {
            "text/plain": [
              "('salary', 'most_frequent', 67, 300000.0, 300000.0)"
            ]
          },
          "metadata": {
            "tags": []
          },
          "execution_count": 43
        }
      ]
    },
    {
      "cell_type": "code",
      "metadata": {
        "id": "WSqh20Ly1lYQ",
        "colab_type": "code",
        "colab": {
          "base_uri": "https://localhost:8080/",
          "height": 195
        },
        "outputId": "01032d6a-8392-4a63-fefe-a658cfffc7c3"
      },
      "source": [
        "cat_temp_data = data[['degree_t']]\n",
        "cat_temp_data.head()"
      ],
      "execution_count": 54,
      "outputs": [
        {
          "output_type": "execute_result",
          "data": {
            "text/html": [
              "<div>\n",
              "<style scoped>\n",
              "    .dataframe tbody tr th:only-of-type {\n",
              "        vertical-align: middle;\n",
              "    }\n",
              "\n",
              "    .dataframe tbody tr th {\n",
              "        vertical-align: top;\n",
              "    }\n",
              "\n",
              "    .dataframe thead th {\n",
              "        text-align: right;\n",
              "    }\n",
              "</style>\n",
              "<table border=\"1\" class=\"dataframe\">\n",
              "  <thead>\n",
              "    <tr style=\"text-align: right;\">\n",
              "      <th></th>\n",
              "      <th>degree_t</th>\n",
              "    </tr>\n",
              "  </thead>\n",
              "  <tbody>\n",
              "    <tr>\n",
              "      <th>0</th>\n",
              "      <td>Sci&amp;Tech</td>\n",
              "    </tr>\n",
              "    <tr>\n",
              "      <th>1</th>\n",
              "      <td>Sci&amp;Tech</td>\n",
              "    </tr>\n",
              "    <tr>\n",
              "      <th>2</th>\n",
              "      <td>Comm&amp;Mgmt</td>\n",
              "    </tr>\n",
              "    <tr>\n",
              "      <th>3</th>\n",
              "      <td>Sci&amp;Tech</td>\n",
              "    </tr>\n",
              "    <tr>\n",
              "      <th>4</th>\n",
              "      <td>Comm&amp;Mgmt</td>\n",
              "    </tr>\n",
              "  </tbody>\n",
              "</table>\n",
              "</div>"
            ],
            "text/plain": [
              "    degree_t\n",
              "0   Sci&Tech\n",
              "1   Sci&Tech\n",
              "2  Comm&Mgmt\n",
              "3   Sci&Tech\n",
              "4  Comm&Mgmt"
            ]
          },
          "metadata": {
            "tags": []
          },
          "execution_count": 54
        }
      ]
    },
    {
      "cell_type": "code",
      "metadata": {
        "id": "_a_seFgGBHda",
        "colab_type": "code",
        "colab": {
          "base_uri": "https://localhost:8080/",
          "height": 1000
        },
        "outputId": "382ae0cb-c709-4dbe-ef5c-183b906fda87"
      },
      "source": [
        "# Импьютация наиболее частыми значениями\n",
        "imp2 = SimpleImputer(missing_values=np.nan, strategy='most_frequent')\n",
        "data_imp2 = imp2.fit_transform(cat_temp_data)\n",
        "data_imp2"
      ],
      "execution_count": 55,
      "outputs": [
        {
          "output_type": "execute_result",
          "data": {
            "text/plain": [
              "array([['Sci&Tech'],\n",
              "       ['Sci&Tech'],\n",
              "       ['Comm&Mgmt'],\n",
              "       ['Sci&Tech'],\n",
              "       ['Comm&Mgmt'],\n",
              "       ['Sci&Tech'],\n",
              "       ['Comm&Mgmt'],\n",
              "       ['Sci&Tech'],\n",
              "       ['Comm&Mgmt'],\n",
              "       ['Comm&Mgmt'],\n",
              "       ['Comm&Mgmt'],\n",
              "       ['Comm&Mgmt'],\n",
              "       ['Comm&Mgmt'],\n",
              "       ['Comm&Mgmt'],\n",
              "       ['Comm&Mgmt'],\n",
              "       ['Comm&Mgmt'],\n",
              "       ['Comm&Mgmt'],\n",
              "       ['Comm&Mgmt'],\n",
              "       ['Comm&Mgmt'],\n",
              "       ['Comm&Mgmt'],\n",
              "       ['Comm&Mgmt'],\n",
              "       ['Comm&Mgmt'],\n",
              "       ['Sci&Tech'],\n",
              "       ['Sci&Tech'],\n",
              "       ['Sci&Tech'],\n",
              "       ['Comm&Mgmt'],\n",
              "       ['Comm&Mgmt'],\n",
              "       ['Comm&Mgmt'],\n",
              "       ['Comm&Mgmt'],\n",
              "       ['Comm&Mgmt'],\n",
              "       ['Comm&Mgmt'],\n",
              "       ['Sci&Tech'],\n",
              "       ['Comm&Mgmt'],\n",
              "       ['Comm&Mgmt'],\n",
              "       ['Others'],\n",
              "       ['Comm&Mgmt'],\n",
              "       ['Comm&Mgmt'],\n",
              "       ['Sci&Tech'],\n",
              "       ['Comm&Mgmt'],\n",
              "       ['Sci&Tech'],\n",
              "       ['Comm&Mgmt'],\n",
              "       ['Comm&Mgmt'],\n",
              "       ['Others'],\n",
              "       ['Comm&Mgmt'],\n",
              "       ['Comm&Mgmt'],\n",
              "       ['Sci&Tech'],\n",
              "       ['Comm&Mgmt'],\n",
              "       ['Comm&Mgmt'],\n",
              "       ['Comm&Mgmt'],\n",
              "       ['Others'],\n",
              "       ['Comm&Mgmt'],\n",
              "       ['Comm&Mgmt'],\n",
              "       ['Comm&Mgmt'],\n",
              "       ['Sci&Tech'],\n",
              "       ['Comm&Mgmt'],\n",
              "       ['Comm&Mgmt'],\n",
              "       ['Comm&Mgmt'],\n",
              "       ['Comm&Mgmt'],\n",
              "       ['Comm&Mgmt'],\n",
              "       ['Sci&Tech'],\n",
              "       ['Comm&Mgmt'],\n",
              "       ['Comm&Mgmt'],\n",
              "       ['Sci&Tech'],\n",
              "       ['Comm&Mgmt'],\n",
              "       ['Comm&Mgmt'],\n",
              "       ['Comm&Mgmt'],\n",
              "       ['Comm&Mgmt'],\n",
              "       ['Comm&Mgmt'],\n",
              "       ['Sci&Tech'],\n",
              "       ['Sci&Tech'],\n",
              "       ['Sci&Tech'],\n",
              "       ['Comm&Mgmt'],\n",
              "       ['Comm&Mgmt'],\n",
              "       ['Comm&Mgmt'],\n",
              "       ['Comm&Mgmt'],\n",
              "       ['Comm&Mgmt'],\n",
              "       ['Comm&Mgmt'],\n",
              "       ['Sci&Tech'],\n",
              "       ['Sci&Tech'],\n",
              "       ['Sci&Tech'],\n",
              "       ['Comm&Mgmt'],\n",
              "       ['Comm&Mgmt'],\n",
              "       ['Comm&Mgmt'],\n",
              "       ['Sci&Tech'],\n",
              "       ['Sci&Tech'],\n",
              "       ['Comm&Mgmt'],\n",
              "       ['Comm&Mgmt'],\n",
              "       ['Others'],\n",
              "       ['Comm&Mgmt'],\n",
              "       ['Sci&Tech'],\n",
              "       ['Comm&Mgmt'],\n",
              "       ['Comm&Mgmt'],\n",
              "       ['Comm&Mgmt'],\n",
              "       ['Comm&Mgmt'],\n",
              "       ['Comm&Mgmt'],\n",
              "       ['Comm&Mgmt'],\n",
              "       ['Comm&Mgmt'],\n",
              "       ['Comm&Mgmt'],\n",
              "       ['Comm&Mgmt'],\n",
              "       ['Sci&Tech'],\n",
              "       ['Comm&Mgmt'],\n",
              "       ['Comm&Mgmt'],\n",
              "       ['Comm&Mgmt'],\n",
              "       ['Sci&Tech'],\n",
              "       ['Comm&Mgmt'],\n",
              "       ['Sci&Tech'],\n",
              "       ['Sci&Tech'],\n",
              "       ['Comm&Mgmt'],\n",
              "       ['Comm&Mgmt'],\n",
              "       ['Sci&Tech'],\n",
              "       ['Sci&Tech'],\n",
              "       ['Sci&Tech'],\n",
              "       ['Comm&Mgmt'],\n",
              "       ['Comm&Mgmt'],\n",
              "       ['Comm&Mgmt'],\n",
              "       ['Comm&Mgmt'],\n",
              "       ['Comm&Mgmt'],\n",
              "       ['Sci&Tech'],\n",
              "       ['Sci&Tech'],\n",
              "       ['Comm&Mgmt'],\n",
              "       ['Comm&Mgmt'],\n",
              "       ['Sci&Tech'],\n",
              "       ['Comm&Mgmt'],\n",
              "       ['Comm&Mgmt'],\n",
              "       ['Others'],\n",
              "       ['Comm&Mgmt'],\n",
              "       ['Sci&Tech'],\n",
              "       ['Comm&Mgmt'],\n",
              "       ['Sci&Tech'],\n",
              "       ['Comm&Mgmt'],\n",
              "       ['Comm&Mgmt'],\n",
              "       ['Others'],\n",
              "       ['Comm&Mgmt'],\n",
              "       ['Comm&Mgmt'],\n",
              "       ['Comm&Mgmt'],\n",
              "       ['Comm&Mgmt'],\n",
              "       ['Comm&Mgmt'],\n",
              "       ['Comm&Mgmt'],\n",
              "       ['Sci&Tech'],\n",
              "       ['Comm&Mgmt'],\n",
              "       ['Comm&Mgmt'],\n",
              "       ['Comm&Mgmt'],\n",
              "       ['Sci&Tech'],\n",
              "       ['Comm&Mgmt'],\n",
              "       ['Comm&Mgmt'],\n",
              "       ['Sci&Tech'],\n",
              "       ['Comm&Mgmt'],\n",
              "       ['Comm&Mgmt'],\n",
              "       ['Others'],\n",
              "       ['Comm&Mgmt'],\n",
              "       ['Sci&Tech'],\n",
              "       ['Comm&Mgmt'],\n",
              "       ['Sci&Tech'],\n",
              "       ['Sci&Tech'],\n",
              "       ['Comm&Mgmt'],\n",
              "       ['Comm&Mgmt'],\n",
              "       ['Sci&Tech'],\n",
              "       ['Comm&Mgmt'],\n",
              "       ['Sci&Tech'],\n",
              "       ['Comm&Mgmt'],\n",
              "       ['Sci&Tech'],\n",
              "       ['Comm&Mgmt'],\n",
              "       ['Comm&Mgmt'],\n",
              "       ['Sci&Tech'],\n",
              "       ['Comm&Mgmt'],\n",
              "       ['Comm&Mgmt'],\n",
              "       ['Comm&Mgmt'],\n",
              "       ['Sci&Tech'],\n",
              "       ['Comm&Mgmt'],\n",
              "       ['Sci&Tech'],\n",
              "       ['Comm&Mgmt'],\n",
              "       ['Comm&Mgmt'],\n",
              "       ['Comm&Mgmt'],\n",
              "       ['Sci&Tech'],\n",
              "       ['Sci&Tech'],\n",
              "       ['Sci&Tech'],\n",
              "       ['Comm&Mgmt'],\n",
              "       ['Comm&Mgmt'],\n",
              "       ['Sci&Tech'],\n",
              "       ['Sci&Tech'],\n",
              "       ['Comm&Mgmt'],\n",
              "       ['Sci&Tech'],\n",
              "       ['Others'],\n",
              "       ['Comm&Mgmt'],\n",
              "       ['Comm&Mgmt'],\n",
              "       ['Others'],\n",
              "       ['Comm&Mgmt'],\n",
              "       ['Sci&Tech'],\n",
              "       ['Comm&Mgmt'],\n",
              "       ['Comm&Mgmt'],\n",
              "       ['Comm&Mgmt'],\n",
              "       ['Comm&Mgmt'],\n",
              "       ['Comm&Mgmt'],\n",
              "       ['Others'],\n",
              "       ['Comm&Mgmt'],\n",
              "       ['Comm&Mgmt'],\n",
              "       ['Sci&Tech'],\n",
              "       ['Sci&Tech'],\n",
              "       ['Others'],\n",
              "       ['Comm&Mgmt'],\n",
              "       ['Comm&Mgmt'],\n",
              "       ['Comm&Mgmt'],\n",
              "       ['Sci&Tech'],\n",
              "       ['Comm&Mgmt'],\n",
              "       ['Comm&Mgmt'],\n",
              "       ['Comm&Mgmt'],\n",
              "       ['Comm&Mgmt'],\n",
              "       ['Comm&Mgmt'],\n",
              "       ['Comm&Mgmt'],\n",
              "       ['Comm&Mgmt'],\n",
              "       ['Comm&Mgmt'],\n",
              "       ['Sci&Tech'],\n",
              "       ['Comm&Mgmt'],\n",
              "       ['Comm&Mgmt'],\n",
              "       ['Comm&Mgmt']], dtype=object)"
            ]
          },
          "metadata": {
            "tags": []
          },
          "execution_count": 55
        }
      ]
    },
    {
      "cell_type": "code",
      "metadata": {
        "id": "7Du8JFGy37CC",
        "colab_type": "code",
        "colab": {
          "base_uri": "https://localhost:8080/",
          "height": 402
        },
        "outputId": "61e0a3f3-0bd7-4228-c537-b459a7b51dfd"
      },
      "source": [
        "cat_enc = pd.DataFrame({'c1':data_imp2.T[0]})\n",
        "cat_enc"
      ],
      "execution_count": 56,
      "outputs": [
        {
          "output_type": "execute_result",
          "data": {
            "text/html": [
              "<div>\n",
              "<style scoped>\n",
              "    .dataframe tbody tr th:only-of-type {\n",
              "        vertical-align: middle;\n",
              "    }\n",
              "\n",
              "    .dataframe tbody tr th {\n",
              "        vertical-align: top;\n",
              "    }\n",
              "\n",
              "    .dataframe thead th {\n",
              "        text-align: right;\n",
              "    }\n",
              "</style>\n",
              "<table border=\"1\" class=\"dataframe\">\n",
              "  <thead>\n",
              "    <tr style=\"text-align: right;\">\n",
              "      <th></th>\n",
              "      <th>c1</th>\n",
              "    </tr>\n",
              "  </thead>\n",
              "  <tbody>\n",
              "    <tr>\n",
              "      <th>0</th>\n",
              "      <td>Sci&amp;Tech</td>\n",
              "    </tr>\n",
              "    <tr>\n",
              "      <th>1</th>\n",
              "      <td>Sci&amp;Tech</td>\n",
              "    </tr>\n",
              "    <tr>\n",
              "      <th>2</th>\n",
              "      <td>Comm&amp;Mgmt</td>\n",
              "    </tr>\n",
              "    <tr>\n",
              "      <th>3</th>\n",
              "      <td>Sci&amp;Tech</td>\n",
              "    </tr>\n",
              "    <tr>\n",
              "      <th>4</th>\n",
              "      <td>Comm&amp;Mgmt</td>\n",
              "    </tr>\n",
              "    <tr>\n",
              "      <th>...</th>\n",
              "      <td>...</td>\n",
              "    </tr>\n",
              "    <tr>\n",
              "      <th>210</th>\n",
              "      <td>Comm&amp;Mgmt</td>\n",
              "    </tr>\n",
              "    <tr>\n",
              "      <th>211</th>\n",
              "      <td>Sci&amp;Tech</td>\n",
              "    </tr>\n",
              "    <tr>\n",
              "      <th>212</th>\n",
              "      <td>Comm&amp;Mgmt</td>\n",
              "    </tr>\n",
              "    <tr>\n",
              "      <th>213</th>\n",
              "      <td>Comm&amp;Mgmt</td>\n",
              "    </tr>\n",
              "    <tr>\n",
              "      <th>214</th>\n",
              "      <td>Comm&amp;Mgmt</td>\n",
              "    </tr>\n",
              "  </tbody>\n",
              "</table>\n",
              "<p>215 rows × 1 columns</p>\n",
              "</div>"
            ],
            "text/plain": [
              "            c1\n",
              "0     Sci&Tech\n",
              "1     Sci&Tech\n",
              "2    Comm&Mgmt\n",
              "3     Sci&Tech\n",
              "4    Comm&Mgmt\n",
              "..         ...\n",
              "210  Comm&Mgmt\n",
              "211   Sci&Tech\n",
              "212  Comm&Mgmt\n",
              "213  Comm&Mgmt\n",
              "214  Comm&Mgmt\n",
              "\n",
              "[215 rows x 1 columns]"
            ]
          },
          "metadata": {
            "tags": []
          },
          "execution_count": 56
        }
      ]
    },
    {
      "cell_type": "code",
      "metadata": {
        "id": "kb6X5DP8AAOr",
        "colab_type": "code",
        "colab": {}
      },
      "source": [
        "from sklearn.preprocessing import LabelEncoder, OneHotEncoder"
      ],
      "execution_count": 0,
      "outputs": []
    },
    {
      "cell_type": "code",
      "metadata": {
        "id": "IQY3pzh5ABOU",
        "colab_type": "code",
        "colab": {}
      },
      "source": [
        "le = LabelEncoder()\n",
        "cat_enc_le = le.fit_transform(cat_enc['c1'])"
      ],
      "execution_count": 0,
      "outputs": []
    },
    {
      "cell_type": "code",
      "metadata": {
        "id": "c8Zda7hQAD9T",
        "colab_type": "code",
        "colab": {
          "base_uri": "https://localhost:8080/",
          "height": 34
        },
        "outputId": "3d18daa9-d626-4af4-dcc7-2d37951cbe13"
      },
      "source": [
        "cat_enc['c1'].unique()"
      ],
      "execution_count": 59,
      "outputs": [
        {
          "output_type": "execute_result",
          "data": {
            "text/plain": [
              "array(['Sci&Tech', 'Comm&Mgmt', 'Others'], dtype=object)"
            ]
          },
          "metadata": {
            "tags": []
          },
          "execution_count": 59
        }
      ]
    },
    {
      "cell_type": "code",
      "metadata": {
        "id": "4-EPiucmGLl_",
        "colab_type": "code",
        "colab": {
          "base_uri": "https://localhost:8080/",
          "height": 34
        },
        "outputId": "38384672-8f56-456b-8023-8b9c96191aa0"
      },
      "source": [
        "np.unique(cat_enc_le)"
      ],
      "execution_count": 60,
      "outputs": [
        {
          "output_type": "execute_result",
          "data": {
            "text/plain": [
              "array([0, 1, 2])"
            ]
          },
          "metadata": {
            "tags": []
          },
          "execution_count": 60
        }
      ]
    },
    {
      "cell_type": "code",
      "metadata": {
        "id": "Dyml9pfbGMrD",
        "colab_type": "code",
        "colab": {
          "base_uri": "https://localhost:8080/",
          "height": 34
        },
        "outputId": "9c16867c-6bfe-45ca-c338-0b99ecca2c0e"
      },
      "source": [
        "le.inverse_transform([0, 1, 2])"
      ],
      "execution_count": 62,
      "outputs": [
        {
          "output_type": "execute_result",
          "data": {
            "text/plain": [
              "array(['Comm&Mgmt', 'Others', 'Sci&Tech'], dtype=object)"
            ]
          },
          "metadata": {
            "tags": []
          },
          "execution_count": 62
        }
      ]
    },
    {
      "cell_type": "code",
      "metadata": {
        "id": "CRQ7BhGtHDXd",
        "colab_type": "code",
        "colab": {}
      },
      "source": [
        "ohe = OneHotEncoder()\n",
        "cat_enc_ohe = ohe.fit_transform(cat_enc[['c1']])"
      ],
      "execution_count": 0,
      "outputs": []
    },
    {
      "cell_type": "code",
      "metadata": {
        "id": "pxwXOA3iHIJ0",
        "colab_type": "code",
        "colab": {
          "base_uri": "https://localhost:8080/",
          "height": 34
        },
        "outputId": "42a4c9d3-33c4-4214-8780-aa37126f6f89"
      },
      "source": [
        "cat_enc.shape"
      ],
      "execution_count": 64,
      "outputs": [
        {
          "output_type": "execute_result",
          "data": {
            "text/plain": [
              "(215, 1)"
            ]
          },
          "metadata": {
            "tags": []
          },
          "execution_count": 64
        }
      ]
    },
    {
      "cell_type": "code",
      "metadata": {
        "id": "OdWHAr3bHJsg",
        "colab_type": "code",
        "colab": {
          "base_uri": "https://localhost:8080/",
          "height": 34
        },
        "outputId": "c5a39ec0-1e8b-4edf-ddca-feafc807f35d"
      },
      "source": [
        "cat_enc_ohe.shape"
      ],
      "execution_count": 65,
      "outputs": [
        {
          "output_type": "execute_result",
          "data": {
            "text/plain": [
              "(215, 3)"
            ]
          },
          "metadata": {
            "tags": []
          },
          "execution_count": 65
        }
      ]
    },
    {
      "cell_type": "code",
      "metadata": {
        "id": "MlK0hDcGHMep",
        "colab_type": "code",
        "colab": {
          "base_uri": "https://localhost:8080/",
          "height": 52
        },
        "outputId": "a4d925d8-0a58-405f-9d79-d137548e23d2"
      },
      "source": [
        "cat_enc_ohe"
      ],
      "execution_count": 66,
      "outputs": [
        {
          "output_type": "execute_result",
          "data": {
            "text/plain": [
              "<215x3 sparse matrix of type '<class 'numpy.float64'>'\n",
              "\twith 215 stored elements in Compressed Sparse Row format>"
            ]
          },
          "metadata": {
            "tags": []
          },
          "execution_count": 66
        }
      ]
    },
    {
      "cell_type": "code",
      "metadata": {
        "id": "jW6UCuw-HPvA",
        "colab_type": "code",
        "colab": {
          "base_uri": "https://localhost:8080/",
          "height": 193
        },
        "outputId": "3676f92b-5985-4289-fadb-eef772c09d01"
      },
      "source": [
        "cat_enc_ohe.todense()[0:10]"
      ],
      "execution_count": 67,
      "outputs": [
        {
          "output_type": "execute_result",
          "data": {
            "text/plain": [
              "matrix([[0., 0., 1.],\n",
              "        [0., 0., 1.],\n",
              "        [1., 0., 0.],\n",
              "        [0., 0., 1.],\n",
              "        [1., 0., 0.],\n",
              "        [0., 0., 1.],\n",
              "        [1., 0., 0.],\n",
              "        [0., 0., 1.],\n",
              "        [1., 0., 0.],\n",
              "        [1., 0., 0.]])"
            ]
          },
          "metadata": {
            "tags": []
          },
          "execution_count": 67
        }
      ]
    },
    {
      "cell_type": "code",
      "metadata": {
        "id": "zWBQmprYHSu1",
        "colab_type": "code",
        "colab": {
          "base_uri": "https://localhost:8080/",
          "height": 343
        },
        "outputId": "381666b7-59a3-4372-e9d2-f67b10e51926"
      },
      "source": [
        "cat_enc.head(10)"
      ],
      "execution_count": 68,
      "outputs": [
        {
          "output_type": "execute_result",
          "data": {
            "text/html": [
              "<div>\n",
              "<style scoped>\n",
              "    .dataframe tbody tr th:only-of-type {\n",
              "        vertical-align: middle;\n",
              "    }\n",
              "\n",
              "    .dataframe tbody tr th {\n",
              "        vertical-align: top;\n",
              "    }\n",
              "\n",
              "    .dataframe thead th {\n",
              "        text-align: right;\n",
              "    }\n",
              "</style>\n",
              "<table border=\"1\" class=\"dataframe\">\n",
              "  <thead>\n",
              "    <tr style=\"text-align: right;\">\n",
              "      <th></th>\n",
              "      <th>c1</th>\n",
              "    </tr>\n",
              "  </thead>\n",
              "  <tbody>\n",
              "    <tr>\n",
              "      <th>0</th>\n",
              "      <td>Sci&amp;Tech</td>\n",
              "    </tr>\n",
              "    <tr>\n",
              "      <th>1</th>\n",
              "      <td>Sci&amp;Tech</td>\n",
              "    </tr>\n",
              "    <tr>\n",
              "      <th>2</th>\n",
              "      <td>Comm&amp;Mgmt</td>\n",
              "    </tr>\n",
              "    <tr>\n",
              "      <th>3</th>\n",
              "      <td>Sci&amp;Tech</td>\n",
              "    </tr>\n",
              "    <tr>\n",
              "      <th>4</th>\n",
              "      <td>Comm&amp;Mgmt</td>\n",
              "    </tr>\n",
              "    <tr>\n",
              "      <th>5</th>\n",
              "      <td>Sci&amp;Tech</td>\n",
              "    </tr>\n",
              "    <tr>\n",
              "      <th>6</th>\n",
              "      <td>Comm&amp;Mgmt</td>\n",
              "    </tr>\n",
              "    <tr>\n",
              "      <th>7</th>\n",
              "      <td>Sci&amp;Tech</td>\n",
              "    </tr>\n",
              "    <tr>\n",
              "      <th>8</th>\n",
              "      <td>Comm&amp;Mgmt</td>\n",
              "    </tr>\n",
              "    <tr>\n",
              "      <th>9</th>\n",
              "      <td>Comm&amp;Mgmt</td>\n",
              "    </tr>\n",
              "  </tbody>\n",
              "</table>\n",
              "</div>"
            ],
            "text/plain": [
              "          c1\n",
              "0   Sci&Tech\n",
              "1   Sci&Tech\n",
              "2  Comm&Mgmt\n",
              "3   Sci&Tech\n",
              "4  Comm&Mgmt\n",
              "5   Sci&Tech\n",
              "6  Comm&Mgmt\n",
              "7   Sci&Tech\n",
              "8  Comm&Mgmt\n",
              "9  Comm&Mgmt"
            ]
          },
          "metadata": {
            "tags": []
          },
          "execution_count": 68
        }
      ]
    },
    {
      "cell_type": "code",
      "metadata": {
        "id": "IcKFGafJHpdP",
        "colab_type": "code",
        "colab": {
          "base_uri": "https://localhost:8080/",
          "height": 195
        },
        "outputId": "6f7754a1-ea38-4c5d-c9e9-fac770e596d6"
      },
      "source": [
        "pd.get_dummies(cat_enc).head()"
      ],
      "execution_count": 69,
      "outputs": [
        {
          "output_type": "execute_result",
          "data": {
            "text/html": [
              "<div>\n",
              "<style scoped>\n",
              "    .dataframe tbody tr th:only-of-type {\n",
              "        vertical-align: middle;\n",
              "    }\n",
              "\n",
              "    .dataframe tbody tr th {\n",
              "        vertical-align: top;\n",
              "    }\n",
              "\n",
              "    .dataframe thead th {\n",
              "        text-align: right;\n",
              "    }\n",
              "</style>\n",
              "<table border=\"1\" class=\"dataframe\">\n",
              "  <thead>\n",
              "    <tr style=\"text-align: right;\">\n",
              "      <th></th>\n",
              "      <th>c1_Comm&amp;Mgmt</th>\n",
              "      <th>c1_Others</th>\n",
              "      <th>c1_Sci&amp;Tech</th>\n",
              "    </tr>\n",
              "  </thead>\n",
              "  <tbody>\n",
              "    <tr>\n",
              "      <th>0</th>\n",
              "      <td>0</td>\n",
              "      <td>0</td>\n",
              "      <td>1</td>\n",
              "    </tr>\n",
              "    <tr>\n",
              "      <th>1</th>\n",
              "      <td>0</td>\n",
              "      <td>0</td>\n",
              "      <td>1</td>\n",
              "    </tr>\n",
              "    <tr>\n",
              "      <th>2</th>\n",
              "      <td>1</td>\n",
              "      <td>0</td>\n",
              "      <td>0</td>\n",
              "    </tr>\n",
              "    <tr>\n",
              "      <th>3</th>\n",
              "      <td>0</td>\n",
              "      <td>0</td>\n",
              "      <td>1</td>\n",
              "    </tr>\n",
              "    <tr>\n",
              "      <th>4</th>\n",
              "      <td>1</td>\n",
              "      <td>0</td>\n",
              "      <td>0</td>\n",
              "    </tr>\n",
              "  </tbody>\n",
              "</table>\n",
              "</div>"
            ],
            "text/plain": [
              "   c1_Comm&Mgmt  c1_Others  c1_Sci&Tech\n",
              "0             0          0            1\n",
              "1             0          0            1\n",
              "2             1          0            0\n",
              "3             0          0            1\n",
              "4             1          0            0"
            ]
          },
          "metadata": {
            "tags": []
          },
          "execution_count": 69
        }
      ]
    },
    {
      "cell_type": "code",
      "metadata": {
        "id": "WYJ5pdFHHrBE",
        "colab_type": "code",
        "colab": {
          "base_uri": "https://localhost:8080/",
          "height": 195
        },
        "outputId": "76bf8001-2d9e-4369-ab72-593344da6a83"
      },
      "source": [
        "pd.get_dummies(cat_temp_data, dummy_na=True).head()"
      ],
      "execution_count": 70,
      "outputs": [
        {
          "output_type": "execute_result",
          "data": {
            "text/html": [
              "<div>\n",
              "<style scoped>\n",
              "    .dataframe tbody tr th:only-of-type {\n",
              "        vertical-align: middle;\n",
              "    }\n",
              "\n",
              "    .dataframe tbody tr th {\n",
              "        vertical-align: top;\n",
              "    }\n",
              "\n",
              "    .dataframe thead th {\n",
              "        text-align: right;\n",
              "    }\n",
              "</style>\n",
              "<table border=\"1\" class=\"dataframe\">\n",
              "  <thead>\n",
              "    <tr style=\"text-align: right;\">\n",
              "      <th></th>\n",
              "      <th>degree_t_Comm&amp;Mgmt</th>\n",
              "      <th>degree_t_Others</th>\n",
              "      <th>degree_t_Sci&amp;Tech</th>\n",
              "      <th>degree_t_nan</th>\n",
              "    </tr>\n",
              "  </thead>\n",
              "  <tbody>\n",
              "    <tr>\n",
              "      <th>0</th>\n",
              "      <td>0</td>\n",
              "      <td>0</td>\n",
              "      <td>1</td>\n",
              "      <td>0</td>\n",
              "    </tr>\n",
              "    <tr>\n",
              "      <th>1</th>\n",
              "      <td>0</td>\n",
              "      <td>0</td>\n",
              "      <td>1</td>\n",
              "      <td>0</td>\n",
              "    </tr>\n",
              "    <tr>\n",
              "      <th>2</th>\n",
              "      <td>1</td>\n",
              "      <td>0</td>\n",
              "      <td>0</td>\n",
              "      <td>0</td>\n",
              "    </tr>\n",
              "    <tr>\n",
              "      <th>3</th>\n",
              "      <td>0</td>\n",
              "      <td>0</td>\n",
              "      <td>1</td>\n",
              "      <td>0</td>\n",
              "    </tr>\n",
              "    <tr>\n",
              "      <th>4</th>\n",
              "      <td>1</td>\n",
              "      <td>0</td>\n",
              "      <td>0</td>\n",
              "      <td>0</td>\n",
              "    </tr>\n",
              "  </tbody>\n",
              "</table>\n",
              "</div>"
            ],
            "text/plain": [
              "   degree_t_Comm&Mgmt  degree_t_Others  degree_t_Sci&Tech  degree_t_nan\n",
              "0                   0                0                  1             0\n",
              "1                   0                0                  1             0\n",
              "2                   1                0                  0             0\n",
              "3                   0                0                  1             0\n",
              "4                   1                0                  0             0"
            ]
          },
          "metadata": {
            "tags": []
          },
          "execution_count": 70
        }
      ]
    },
    {
      "cell_type": "code",
      "metadata": {
        "id": "4ELrZf5TIEp7",
        "colab_type": "code",
        "colab": {}
      },
      "source": [
        "from sklearn.preprocessing import MinMaxScaler, StandardScaler, Normalizer"
      ],
      "execution_count": 0,
      "outputs": []
    },
    {
      "cell_type": "code",
      "metadata": {
        "id": "n0n9FK_SILl1",
        "colab_type": "code",
        "colab": {}
      },
      "source": [
        "sc1 = MinMaxScaler()\n",
        "sc1_data = sc1.fit_transform(data[['degree_p']])"
      ],
      "execution_count": 0,
      "outputs": []
    },
    {
      "cell_type": "code",
      "metadata": {
        "id": "lpwyoaxqIqr4",
        "colab_type": "code",
        "colab": {
          "base_uri": "https://localhost:8080/",
          "height": 268
        },
        "outputId": "648bda8c-4444-4349-9642-05ee2486da99"
      },
      "source": [
        "plt.hist(data['degree_p'], 50)\n",
        "plt.show()"
      ],
      "execution_count": 73,
      "outputs": [
        {
          "output_type": "display_data",
          "data": {
            "image/png": "[encoded data removed]",
            "text/plain": [
              "<Figure size 432x288 with 1 Axes>"
            ]
          },
          "metadata": {
            "tags": []
          }
        }
      ]
    },
    {
      "cell_type": "code",
      "metadata": {
        "id": "ReBxHjQHIzy1",
        "colab_type": "code",
        "colab": {
          "base_uri": "https://localhost:8080/",
          "height": 268
        },
        "outputId": "eb64b7a7-307e-4c40-fea2-9642a6cddc08"
      },
      "source": [
        "plt.hist(sc1_data, 50)\n",
        "plt.show()"
      ],
      "execution_count": 74,
      "outputs": [
        {
          "output_type": "display_data",
          "data": {
            "image/png": "[encoded data removed]",
            "text/plain": [
              "<Figure size 432x288 with 1 Axes>"
            ]
          },
          "metadata": {
            "tags": []
          }
        }
      ]
    },
    {
      "cell_type": "code",
      "metadata": {
        "id": "yBv8kMfuJBou",
        "colab_type": "code",
        "colab": {
          "base_uri": "https://localhost:8080/",
          "height": 268
        },
        "outputId": "5b6ad4ad-4a37-4491-c78c-e17c0cab24c0"
      },
      "source": [
        "sc2 = StandardScaler()\n",
        "sc2_data = sc2.fit_transform(data[['degree_p']])\n",
        "\n",
        "plt.hist(sc2_data, 50)\n",
        "plt.show()"
      ],
      "execution_count": 75,
      "outputs": [
        {
          "output_type": "display_data",
          "data": {
            "image/png": "[encoded data removed]",
            "text/plain": [
              "<Figure size 432x288 with 1 Axes>"
            ]
          },
          "metadata": {
            "tags": []
          }
        }
      ]
    },
    {
      "cell_type": "code",
      "metadata": {
        "id": "JQws-VouJRY8",
        "colab_type": "code",
        "colab": {
          "base_uri": "https://localhost:8080/",
          "height": 268
        },
        "outputId": "190a3564-5c88-40c4-d610-a98ecc54c9ed"
      },
      "source": [
        "sc3 = Normalizer()\n",
        "sc3_data = sc3.fit_transform(data[['degree_p']])\n",
        "\n",
        "\n",
        "plt.hist(sc3_data, 50)\n",
        "plt.show()"
      ],
      "execution_count": 76,
      "outputs": [
        {
          "output_type": "display_data",
          "data": {
            "image/png": "[encoded data removed]",
            "text/plain": [
              "<Figure size 432x288 with 1 Axes>"
            ]
          },
          "metadata": {
            "tags": []
          }
        }
      ]
    }
  ]
}