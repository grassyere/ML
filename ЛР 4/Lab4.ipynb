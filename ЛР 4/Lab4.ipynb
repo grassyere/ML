{
  "nbformat": 4,
  "nbformat_minor": 0,
  "metadata": {
    "colab": {
      "name": "Lab4.ipynb",
      "provenance": [],
      "collapsed_sections": []
    },
    "kernelspec": {
      "name": "python3",
      "display_name": "Python 3"
    }
  },
  "cells": [
    {
      "cell_type": "code",
      "metadata": {
        "id": "RlmjuhVPIigp",
        "colab_type": "code",
        "colab": {}
      },
      "source": [
        "import numpy as np\n",
        "import pandas as pd\n",
        "from typing import Dict, Tuple\n",
        "from scipy import stats\n",
        "from sklearn.datasets import load_wine, load_diabetes\n",
        "from sklearn.model_selection import train_test_split\n",
        "from sklearn.neighbors import KNeighborsRegressor, KNeighborsClassifier\n",
        "from sklearn.metrics import accuracy_score, balanced_accuracy_score\n",
        "from sklearn.metrics import plot_confusion_matrix\n",
        "from sklearn.metrics import precision_score, recall_score, f1_score, classification_report\n",
        "from sklearn.metrics import confusion_matrix\n",
        "from sklearn.metrics import mean_absolute_error, mean_squared_error, mean_squared_log_error, median_absolute_error, r2_score \n",
        "from sklearn.metrics import roc_curve, roc_auc_score\n",
        "import seaborn as sns\n",
        "import matplotlib.pyplot as plt\n",
        "%matplotlib inline \n",
        "sns.set(style=\"ticks\")"
      ],
      "execution_count": 0,
      "outputs": []
    },
    {
      "cell_type": "code",
      "metadata": {
        "id": "Xf6FLMF5I1J1",
        "colab_type": "code",
        "colab": {}
      },
      "source": [
        "wine = load_wine()"
      ],
      "execution_count": 0,
      "outputs": []
    },
    {
      "cell_type": "code",
      "metadata": {
        "id": "L4Wj7upcKJbX",
        "colab_type": "code",
        "colab": {
          "base_uri": "https://localhost:8080/",
          "height": 246
        },
        "outputId": "4f855604-246f-44ef-eb33-84d33f965980"
      },
      "source": [
        "# Наименования признаков\n",
        "wine.feature_names"
      ],
      "execution_count": 11,
      "outputs": [
        {
          "output_type": "execute_result",
          "data": {
            "text/plain": [
              "['alcohol',\n",
              " 'malic_acid',\n",
              " 'ash',\n",
              " 'alcalinity_of_ash',\n",
              " 'magnesium',\n",
              " 'total_phenols',\n",
              " 'flavanoids',\n",
              " 'nonflavanoid_phenols',\n",
              " 'proanthocyanins',\n",
              " 'color_intensity',\n",
              " 'hue',\n",
              " 'od280/od315_of_diluted_wines',\n",
              " 'proline']"
            ]
          },
          "metadata": {
            "tags": []
          },
          "execution_count": 11
        }
      ]
    },
    {
      "cell_type": "code",
      "metadata": {
        "id": "slZvP2rvKTlF",
        "colab_type": "code",
        "colab": {
          "base_uri": "https://localhost:8080/",
          "height": 281
        },
        "outputId": "91382bd0-6ccf-4215-eeb0-d1ed06f39486"
      },
      "source": [
        "# Значения признаков\n",
        "wine.data[:5]"
      ],
      "execution_count": 12,
      "outputs": [
        {
          "output_type": "execute_result",
          "data": {
            "text/plain": [
              "array([[1.423e+01, 1.710e+00, 2.430e+00, 1.560e+01, 1.270e+02, 2.800e+00,\n",
              "        3.060e+00, 2.800e-01, 2.290e+00, 5.640e+00, 1.040e+00, 3.920e+00,\n",
              "        1.065e+03],\n",
              "       [1.320e+01, 1.780e+00, 2.140e+00, 1.120e+01, 1.000e+02, 2.650e+00,\n",
              "        2.760e+00, 2.600e-01, 1.280e+00, 4.380e+00, 1.050e+00, 3.400e+00,\n",
              "        1.050e+03],\n",
              "       [1.316e+01, 2.360e+00, 2.670e+00, 1.860e+01, 1.010e+02, 2.800e+00,\n",
              "        3.240e+00, 3.000e-01, 2.810e+00, 5.680e+00, 1.030e+00, 3.170e+00,\n",
              "        1.185e+03],\n",
              "       [1.437e+01, 1.950e+00, 2.500e+00, 1.680e+01, 1.130e+02, 3.850e+00,\n",
              "        3.490e+00, 2.400e-01, 2.180e+00, 7.800e+00, 8.600e-01, 3.450e+00,\n",
              "        1.480e+03],\n",
              "       [1.324e+01, 2.590e+00, 2.870e+00, 2.100e+01, 1.180e+02, 2.800e+00,\n",
              "        2.690e+00, 3.900e-01, 1.820e+00, 4.320e+00, 1.040e+00, 2.930e+00,\n",
              "        7.350e+02]])"
            ]
          },
          "metadata": {
            "tags": []
          },
          "execution_count": 12
        }
      ]
    },
    {
      "cell_type": "code",
      "metadata": {
        "id": "-5HRnxlIMd_M",
        "colab_type": "code",
        "colab": {
          "base_uri": "https://localhost:8080/",
          "height": 34
        },
        "outputId": "581ac5a7-7005-4da1-ae68-7ccb2939c031"
      },
      "source": [
        "type(wine.data)"
      ],
      "execution_count": 13,
      "outputs": [
        {
          "output_type": "execute_result",
          "data": {
            "text/plain": [
              "numpy.ndarray"
            ]
          },
          "metadata": {
            "tags": []
          },
          "execution_count": 13
        }
      ]
    },
    {
      "cell_type": "code",
      "metadata": {
        "id": "02U2P1GmMiFv",
        "colab_type": "code",
        "colab": {
          "base_uri": "https://localhost:8080/",
          "height": 34
        },
        "outputId": "03081d36-8584-4d7b-ffc8-6a8b12c477d8"
      },
      "source": [
        "# Значения целевого признака\n",
        "np.unique(wine.target)"
      ],
      "execution_count": 14,
      "outputs": [
        {
          "output_type": "execute_result",
          "data": {
            "text/plain": [
              "array([0, 1, 2])"
            ]
          },
          "metadata": {
            "tags": []
          },
          "execution_count": 14
        }
      ]
    },
    {
      "cell_type": "code",
      "metadata": {
        "id": "zjneDVncMqMW",
        "colab_type": "code",
        "colab": {
          "base_uri": "https://localhost:8080/",
          "height": 34
        },
        "outputId": "838a142f-9546-403d-e8ae-40aedb4557fd"
      },
      "source": [
        "# Наименования значений целевого признака\n",
        "wine.target_names"
      ],
      "execution_count": 15,
      "outputs": [
        {
          "output_type": "execute_result",
          "data": {
            "text/plain": [
              "array(['class_0', 'class_1', 'class_2'], dtype='<U7')"
            ]
          },
          "metadata": {
            "tags": []
          },
          "execution_count": 15
        }
      ]
    },
    {
      "cell_type": "code",
      "metadata": {
        "id": "YPThQsM4R-GM",
        "colab_type": "code",
        "colab": {
          "base_uri": "https://localhost:8080/",
          "height": 34
        },
        "outputId": "6acd175c-7b59-4552-d81d-f8194d45511d"
      },
      "source": [
        "list(zip(np.unique(wine.target), wine.target_names))"
      ],
      "execution_count": 16,
      "outputs": [
        {
          "output_type": "execute_result",
          "data": {
            "text/plain": [
              "[(0, 'class_0'), (1, 'class_1'), (2, 'class_2')]"
            ]
          },
          "metadata": {
            "tags": []
          },
          "execution_count": 16
        }
      ]
    },
    {
      "cell_type": "code",
      "metadata": {
        "id": "ykVPv69FSI7d",
        "colab_type": "code",
        "colab": {
          "base_uri": "https://localhost:8080/",
          "height": 175
        },
        "outputId": "4acc0423-469a-472f-d29e-8f6df8c0e60d"
      },
      "source": [
        "# Значения целевого признака\n",
        "wine.target"
      ],
      "execution_count": 17,
      "outputs": [
        {
          "output_type": "execute_result",
          "data": {
            "text/plain": [
              "array([0, 0, 0, 0, 0, 0, 0, 0, 0, 0, 0, 0, 0, 0, 0, 0, 0, 0, 0, 0, 0, 0,\n",
              "       0, 0, 0, 0, 0, 0, 0, 0, 0, 0, 0, 0, 0, 0, 0, 0, 0, 0, 0, 0, 0, 0,\n",
              "       0, 0, 0, 0, 0, 0, 0, 0, 0, 0, 0, 0, 0, 0, 0, 1, 1, 1, 1, 1, 1, 1,\n",
              "       1, 1, 1, 1, 1, 1, 1, 1, 1, 1, 1, 1, 1, 1, 1, 1, 1, 1, 1, 1, 1, 1,\n",
              "       1, 1, 1, 1, 1, 1, 1, 1, 1, 1, 1, 1, 1, 1, 1, 1, 1, 1, 1, 1, 1, 1,\n",
              "       1, 1, 1, 1, 1, 1, 1, 1, 1, 1, 1, 1, 1, 1, 1, 1, 1, 1, 1, 1, 2, 2,\n",
              "       2, 2, 2, 2, 2, 2, 2, 2, 2, 2, 2, 2, 2, 2, 2, 2, 2, 2, 2, 2, 2, 2,\n",
              "       2, 2, 2, 2, 2, 2, 2, 2, 2, 2, 2, 2, 2, 2, 2, 2, 2, 2, 2, 2, 2, 2,\n",
              "       2, 2])"
            ]
          },
          "metadata": {
            "tags": []
          },
          "execution_count": 17
        }
      ]
    },
    {
      "cell_type": "code",
      "metadata": {
        "id": "1xXpxlN3SL1t",
        "colab_type": "code",
        "colab": {
          "base_uri": "https://localhost:8080/",
          "height": 34
        },
        "outputId": "7ede2425-3ab8-4ae1-f4c3-e4886af6811a"
      },
      "source": [
        "# Размер выборки\n",
        "wine.data.shape, wine.target.shape"
      ],
      "execution_count": 18,
      "outputs": [
        {
          "output_type": "execute_result",
          "data": {
            "text/plain": [
              "((178, 13), (178,))"
            ]
          },
          "metadata": {
            "tags": []
          },
          "execution_count": 18
        }
      ]
    },
    {
      "cell_type": "code",
      "metadata": {
        "id": "hnigmDV9SUaX",
        "colab_type": "code",
        "colab": {}
      },
      "source": [
        "# Сформируем DataFrame\n",
        "wine_df = pd.DataFrame(data= np.c_[wine['data'], wine['target']],\n",
        "                     columns= wine['feature_names'] + ['target'])"
      ],
      "execution_count": 0,
      "outputs": []
    },
    {
      "cell_type": "code",
      "metadata": {
        "id": "3MsqjOysSf1-",
        "colab_type": "code",
        "colab": {
          "base_uri": "https://localhost:8080/",
          "height": 304
        },
        "outputId": "c239bf84-eb61-48ee-bf12-7070edf0ac5e"
      },
      "source": [
        "# И выведем его статистические характеристики\n",
        "wine_df.describe()"
      ],
      "execution_count": 20,
      "outputs": [
        {
          "output_type": "execute_result",
          "data": {
            "text/html": [
              "<div>\n",
              "<style scoped>\n",
              "    .dataframe tbody tr th:only-of-type {\n",
              "        vertical-align: middle;\n",
              "    }\n",
              "\n",
              "    .dataframe tbody tr th {\n",
              "        vertical-align: top;\n",
              "    }\n",
              "\n",
              "    .dataframe thead th {\n",
              "        text-align: right;\n",
              "    }\n",
              "</style>\n",
              "<table border=\"1\" class=\"dataframe\">\n",
              "  <thead>\n",
              "    <tr style=\"text-align: right;\">\n",
              "      <th></th>\n",
              "      <th>alcohol</th>\n",
              "      <th>malic_acid</th>\n",
              "      <th>ash</th>\n",
              "      <th>alcalinity_of_ash</th>\n",
              "      <th>magnesium</th>\n",
              "      <th>total_phenols</th>\n",
              "      <th>flavanoids</th>\n",
              "      <th>nonflavanoid_phenols</th>\n",
              "      <th>proanthocyanins</th>\n",
              "      <th>color_intensity</th>\n",
              "      <th>hue</th>\n",
              "      <th>od280/od315_of_diluted_wines</th>\n",
              "      <th>proline</th>\n",
              "      <th>target</th>\n",
              "    </tr>\n",
              "  </thead>\n",
              "  <tbody>\n",
              "    <tr>\n",
              "      <th>count</th>\n",
              "      <td>178.000000</td>\n",
              "      <td>178.000000</td>\n",
              "      <td>178.000000</td>\n",
              "      <td>178.000000</td>\n",
              "      <td>178.000000</td>\n",
              "      <td>178.000000</td>\n",
              "      <td>178.000000</td>\n",
              "      <td>178.000000</td>\n",
              "      <td>178.000000</td>\n",
              "      <td>178.000000</td>\n",
              "      <td>178.000000</td>\n",
              "      <td>178.000000</td>\n",
              "      <td>178.000000</td>\n",
              "      <td>178.000000</td>\n",
              "    </tr>\n",
              "    <tr>\n",
              "      <th>mean</th>\n",
              "      <td>13.000618</td>\n",
              "      <td>2.336348</td>\n",
              "      <td>2.366517</td>\n",
              "      <td>19.494944</td>\n",
              "      <td>99.741573</td>\n",
              "      <td>2.295112</td>\n",
              "      <td>2.029270</td>\n",
              "      <td>0.361854</td>\n",
              "      <td>1.590899</td>\n",
              "      <td>5.058090</td>\n",
              "      <td>0.957449</td>\n",
              "      <td>2.611685</td>\n",
              "      <td>746.893258</td>\n",
              "      <td>0.938202</td>\n",
              "    </tr>\n",
              "    <tr>\n",
              "      <th>std</th>\n",
              "      <td>0.811827</td>\n",
              "      <td>1.117146</td>\n",
              "      <td>0.274344</td>\n",
              "      <td>3.339564</td>\n",
              "      <td>14.282484</td>\n",
              "      <td>0.625851</td>\n",
              "      <td>0.998859</td>\n",
              "      <td>0.124453</td>\n",
              "      <td>0.572359</td>\n",
              "      <td>2.318286</td>\n",
              "      <td>0.228572</td>\n",
              "      <td>0.709990</td>\n",
              "      <td>314.907474</td>\n",
              "      <td>0.775035</td>\n",
              "    </tr>\n",
              "    <tr>\n",
              "      <th>min</th>\n",
              "      <td>11.030000</td>\n",
              "      <td>0.740000</td>\n",
              "      <td>1.360000</td>\n",
              "      <td>10.600000</td>\n",
              "      <td>70.000000</td>\n",
              "      <td>0.980000</td>\n",
              "      <td>0.340000</td>\n",
              "      <td>0.130000</td>\n",
              "      <td>0.410000</td>\n",
              "      <td>1.280000</td>\n",
              "      <td>0.480000</td>\n",
              "      <td>1.270000</td>\n",
              "      <td>278.000000</td>\n",
              "      <td>0.000000</td>\n",
              "    </tr>\n",
              "    <tr>\n",
              "      <th>25%</th>\n",
              "      <td>12.362500</td>\n",
              "      <td>1.602500</td>\n",
              "      <td>2.210000</td>\n",
              "      <td>17.200000</td>\n",
              "      <td>88.000000</td>\n",
              "      <td>1.742500</td>\n",
              "      <td>1.205000</td>\n",
              "      <td>0.270000</td>\n",
              "      <td>1.250000</td>\n",
              "      <td>3.220000</td>\n",
              "      <td>0.782500</td>\n",
              "      <td>1.937500</td>\n",
              "      <td>500.500000</td>\n",
              "      <td>0.000000</td>\n",
              "    </tr>\n",
              "    <tr>\n",
              "      <th>50%</th>\n",
              "      <td>13.050000</td>\n",
              "      <td>1.865000</td>\n",
              "      <td>2.360000</td>\n",
              "      <td>19.500000</td>\n",
              "      <td>98.000000</td>\n",
              "      <td>2.355000</td>\n",
              "      <td>2.135000</td>\n",
              "      <td>0.340000</td>\n",
              "      <td>1.555000</td>\n",
              "      <td>4.690000</td>\n",
              "      <td>0.965000</td>\n",
              "      <td>2.780000</td>\n",
              "      <td>673.500000</td>\n",
              "      <td>1.000000</td>\n",
              "    </tr>\n",
              "    <tr>\n",
              "      <th>75%</th>\n",
              "      <td>13.677500</td>\n",
              "      <td>3.082500</td>\n",
              "      <td>2.557500</td>\n",
              "      <td>21.500000</td>\n",
              "      <td>107.000000</td>\n",
              "      <td>2.800000</td>\n",
              "      <td>2.875000</td>\n",
              "      <td>0.437500</td>\n",
              "      <td>1.950000</td>\n",
              "      <td>6.200000</td>\n",
              "      <td>1.120000</td>\n",
              "      <td>3.170000</td>\n",
              "      <td>985.000000</td>\n",
              "      <td>2.000000</td>\n",
              "    </tr>\n",
              "    <tr>\n",
              "      <th>max</th>\n",
              "      <td>14.830000</td>\n",
              "      <td>5.800000</td>\n",
              "      <td>3.230000</td>\n",
              "      <td>30.000000</td>\n",
              "      <td>162.000000</td>\n",
              "      <td>3.880000</td>\n",
              "      <td>5.080000</td>\n",
              "      <td>0.660000</td>\n",
              "      <td>3.580000</td>\n",
              "      <td>13.000000</td>\n",
              "      <td>1.710000</td>\n",
              "      <td>4.000000</td>\n",
              "      <td>1680.000000</td>\n",
              "      <td>2.000000</td>\n",
              "    </tr>\n",
              "  </tbody>\n",
              "</table>\n",
              "</div>"
            ],
            "text/plain": [
              "          alcohol  malic_acid  ...      proline      target\n",
              "count  178.000000  178.000000  ...   178.000000  178.000000\n",
              "mean    13.000618    2.336348  ...   746.893258    0.938202\n",
              "std      0.811827    1.117146  ...   314.907474    0.775035\n",
              "min     11.030000    0.740000  ...   278.000000    0.000000\n",
              "25%     12.362500    1.602500  ...   500.500000    0.000000\n",
              "50%     13.050000    1.865000  ...   673.500000    1.000000\n",
              "75%     13.677500    3.082500  ...   985.000000    2.000000\n",
              "max     14.830000    5.800000  ...  1680.000000    2.000000\n",
              "\n",
              "[8 rows x 14 columns]"
            ]
          },
          "metadata": {
            "tags": []
          },
          "execution_count": 20
        }
      ]
    },
    {
      "cell_type": "code",
      "metadata": {
        "id": "qx6KDyqHTyKu",
        "colab_type": "code",
        "colab": {}
      },
      "source": [
        "wine_X_train, wine_X_test, wine_y_train, wine_y_test = train_test_split(\n",
        "    wine.data, wine.target, test_size=0.5, random_state=1)"
      ],
      "execution_count": 0,
      "outputs": []
    },
    {
      "cell_type": "code",
      "metadata": {
        "id": "fysU9Q8NUCp2",
        "colab_type": "code",
        "colab": {
          "base_uri": "https://localhost:8080/",
          "height": 34
        },
        "outputId": "77147730-d984-43f5-8e19-2adee129d08b"
      },
      "source": [
        "# Размер обучающей выборки\n",
        "wine_X_train.shape, wine_y_train.shape"
      ],
      "execution_count": 22,
      "outputs": [
        {
          "output_type": "execute_result",
          "data": {
            "text/plain": [
              "((89, 13), (89,))"
            ]
          },
          "metadata": {
            "tags": []
          },
          "execution_count": 22
        }
      ]
    },
    {
      "cell_type": "code",
      "metadata": {
        "id": "Vph-ILopUG5-",
        "colab_type": "code",
        "colab": {
          "base_uri": "https://localhost:8080/",
          "height": 34
        },
        "outputId": "2c95f064-acb3-4d26-c62a-c35117bbd656"
      },
      "source": [
        "# Размер тестовой выборки\n",
        "wine_X_test.shape, wine_y_test.shape"
      ],
      "execution_count": 23,
      "outputs": [
        {
          "output_type": "execute_result",
          "data": {
            "text/plain": [
              "((89, 13), (89,))"
            ]
          },
          "metadata": {
            "tags": []
          },
          "execution_count": 23
        }
      ]
    },
    {
      "cell_type": "code",
      "metadata": {
        "id": "4nJGiSN9UL3u",
        "colab_type": "code",
        "colab": {
          "base_uri": "https://localhost:8080/",
          "height": 34
        },
        "outputId": "1ca480e0-4e38-4f63-b3dc-01d9ea3d2ae1"
      },
      "source": [
        "np.unique(wine_y_train)"
      ],
      "execution_count": 24,
      "outputs": [
        {
          "output_type": "execute_result",
          "data": {
            "text/plain": [
              "array([0, 1, 2])"
            ]
          },
          "metadata": {
            "tags": []
          },
          "execution_count": 24
        }
      ]
    },
    {
      "cell_type": "code",
      "metadata": {
        "id": "8FqMMeKjURBo",
        "colab_type": "code",
        "colab": {
          "base_uri": "https://localhost:8080/",
          "height": 34
        },
        "outputId": "a1c8cfff-9743-4a27-c5ac-6d664f5dcf79"
      },
      "source": [
        "np.unique(wine_y_test)"
      ],
      "execution_count": 26,
      "outputs": [
        {
          "output_type": "execute_result",
          "data": {
            "text/plain": [
              "array([0, 1, 2])"
            ]
          },
          "metadata": {
            "tags": []
          },
          "execution_count": 26
        }
      ]
    },
    {
      "cell_type": "code",
      "metadata": {
        "id": "I9ZFMMmPVAFO",
        "colab_type": "code",
        "colab": {
          "base_uri": "https://localhost:8080/",
          "height": 105
        },
        "outputId": "263eaeeb-02f3-4dfc-d65e-cb2d362f8106"
      },
      "source": [
        "# 2 ближайших соседа\n",
        "cl1_1 = KNeighborsClassifier(n_neighbors=2)\n",
        "cl1_1.fit(wine_X_train, wine_y_train)\n",
        "target1_1 = cl1_1.predict(wine_X_test)\n",
        "len(target1_1), target1_1"
      ],
      "execution_count": 27,
      "outputs": [
        {
          "output_type": "execute_result",
          "data": {
            "text/plain": [
              "(89, array([0, 1, 2, 1, 0, 1, 2, 0, 1, 1, 0, 1, 1, 0, 2, 1, 1, 1, 1, 0, 0, 1,\n",
              "        1, 0, 0, 1, 0, 0, 0, 1, 1, 1, 1, 0, 1, 1, 1, 1, 1, 0, 0, 1, 1, 0,\n",
              "        0, 1, 0, 0, 0, 0, 1, 1, 1, 0, 1, 0, 1, 1, 1, 1, 1, 0, 1, 1, 2, 0,\n",
              "        1, 0, 1, 1, 1, 0, 1, 0, 1, 1, 2, 2, 0, 1, 0, 0, 1, 0, 1, 1, 1, 0,\n",
              "        1]))"
            ]
          },
          "metadata": {
            "tags": []
          },
          "execution_count": 27
        }
      ]
    },
    {
      "cell_type": "code",
      "metadata": {
        "id": "V7ERNvOJVGFH",
        "colab_type": "code",
        "colab": {
          "base_uri": "https://localhost:8080/",
          "height": 105
        },
        "outputId": "5e1b5a12-59d0-4b51-b413-31e7037024fc"
      },
      "source": [
        "# 3 ближайших соседа\n",
        "cl1_1 = KNeighborsClassifier(n_neighbors=3)\n",
        "cl1_1.fit(wine_X_train, wine_y_train)\n",
        "target1_1 = cl1_1.predict(wine_X_test)\n",
        "len(target1_1), target1_1"
      ],
      "execution_count": 41,
      "outputs": [
        {
          "output_type": "execute_result",
          "data": {
            "text/plain": [
              "(89, array([0, 1, 2, 1, 0, 1, 2, 0, 2, 1, 0, 2, 1, 0, 2, 1, 1, 2, 1, 0, 0, 1,\n",
              "        2, 0, 0, 2, 0, 0, 0, 1, 1, 1, 1, 0, 2, 1, 1, 2, 1, 0, 0, 1, 2, 0,\n",
              "        0, 2, 0, 0, 0, 0, 1, 2, 2, 0, 1, 0, 2, 1, 1, 1, 1, 0, 1, 1, 2, 0,\n",
              "        1, 0, 1, 2, 1, 1, 2, 2, 1, 1, 2, 2, 0, 2, 0, 0, 1, 0, 2, 2, 1, 0,\n",
              "        1]))"
            ]
          },
          "metadata": {
            "tags": []
          },
          "execution_count": 41
        }
      ]
    },
    {
      "cell_type": "code",
      "metadata": {
        "id": "7WTGno5dVXT-",
        "colab_type": "code",
        "colab": {
          "base_uri": "https://localhost:8080/",
          "height": 105
        },
        "outputId": "2d7e4fea-922f-4307-d99b-3ab8b18c0474"
      },
      "source": [
        "# 10 ближайших соседей\n",
        "cl1_2 = KNeighborsClassifier(n_neighbors=10)\n",
        "cl1_2.fit(wine_X_train, wine_y_train)\n",
        "target1_2 = cl1_2.predict(wine_X_test)\n",
        "len(target1_2), target1_2"
      ],
      "execution_count": 42,
      "outputs": [
        {
          "output_type": "execute_result",
          "data": {
            "text/plain": [
              "(89, array([1, 1, 2, 1, 0, 1, 1, 0, 1, 1, 0, 1, 1, 0, 1, 1, 1, 0, 1, 0, 0, 1,\n",
              "        2, 0, 2, 1, 0, 0, 0, 2, 1, 2, 1, 0, 2, 1, 1, 1, 1, 0, 0, 1, 1, 2,\n",
              "        0, 2, 2, 0, 0, 0, 1, 1, 1, 0, 1, 0, 0, 1, 1, 1, 1, 0, 2, 2, 1, 0,\n",
              "        1, 0, 1, 2, 1, 1, 1, 2, 1, 1, 2, 1, 0, 2, 1, 0, 1, 0, 1, 1, 1, 0,\n",
              "        1]))"
            ]
          },
          "metadata": {
            "tags": []
          },
          "execution_count": 42
        }
      ]
    },
    {
      "cell_type": "code",
      "metadata": {
        "id": "H_L2RcLbWe4h",
        "colab_type": "code",
        "colab": {
          "base_uri": "https://localhost:8080/",
          "height": 34
        },
        "outputId": "4461ac38-0ca9-42da-c4f9-a23ab653d09d"
      },
      "source": [
        "# 3 ближайших соседа\n",
        "accuracy_score(wine_y_test, target1_1)"
      ],
      "execution_count": 43,
      "outputs": [
        {
          "output_type": "execute_result",
          "data": {
            "text/plain": [
              "0.6966292134831461"
            ]
          },
          "metadata": {
            "tags": []
          },
          "execution_count": 43
        }
      ]
    },
    {
      "cell_type": "code",
      "metadata": {
        "id": "NeoLTHVoWkkA",
        "colab_type": "code",
        "colab": {
          "base_uri": "https://localhost:8080/",
          "height": 34
        },
        "outputId": "6993ccde-cc71-4648-a382-cbbd503c0da3"
      },
      "source": [
        "# 10 ближайших соседей\n",
        "accuracy_score(wine_y_test, target1_2)"
      ],
      "execution_count": 44,
      "outputs": [
        {
          "output_type": "execute_result",
          "data": {
            "text/plain": [
              "0.6629213483146067"
            ]
          },
          "metadata": {
            "tags": []
          },
          "execution_count": 44
        }
      ]
    },
    {
      "cell_type": "code",
      "metadata": {
        "id": "SH8b4Lp-XoSb",
        "colab_type": "code",
        "colab": {}
      },
      "source": [
        "def accuracy_score_for_classes(\n",
        "    y_true: np.ndarray, \n",
        "    y_pred: np.ndarray) -> Dict[int, float]:\n",
        "\n",
        "    # Для удобства фильтрации сформируем Pandas DataFrame \n",
        "    d = {'t': y_true, 'p': y_pred}\n",
        "    df = pd.DataFrame(data=d)\n",
        "    # Метки классов\n",
        "    classes = np.unique(y_true)\n",
        "    # Результирующий словарь\n",
        "    res = dict()\n",
        "    # Перебор меток классов\n",
        "    for c in classes:\n",
        "        # отфильтруем данные, которые соответствуют \n",
        "        # текущей метке класса в истинных значениях\n",
        "        temp_data_flt = df[df['t']==c]\n",
        "        # расчет accuracy для заданной метки класса\n",
        "        temp_acc = accuracy_score(\n",
        "            temp_data_flt['t'].values, \n",
        "            temp_data_flt['p'].values)\n",
        "        # сохранение результата в словарь\n",
        "        res[c] = temp_acc\n",
        "    return res\n",
        "\n",
        "def print_accuracy_score_for_classes(\n",
        "    y_true: np.ndarray, \n",
        "    y_pred: np.ndarray):\n",
        "    \"\"\"\n",
        "    Вывод метрики accuracy для каждого класса\n",
        "    \"\"\"\n",
        "    accs = accuracy_score_for_classes(y_true, y_pred)\n",
        "    if len(accs)>0:\n",
        "        print('Метка \\t Accuracy')\n",
        "    for i in accs:\n",
        "        print('{} \\t {}'.format(i, accs[i]))"
      ],
      "execution_count": 0,
      "outputs": []
    },
    {
      "cell_type": "code",
      "metadata": {
        "id": "Z1uy3fO_aTPj",
        "colab_type": "code",
        "colab": {
          "base_uri": "https://localhost:8080/",
          "height": 87
        },
        "outputId": "b7ad4569-5364-4bba-a220-43cee9751b7e"
      },
      "source": [
        "# 3 ближайших соседа\n",
        "print_accuracy_score_for_classes(wine_y_test, target1_1)"
      ],
      "execution_count": 46,
      "outputs": [
        {
          "output_type": "stream",
          "text": [
            "Метка \t Accuracy\n",
            "0 \t 0.7878787878787878\n",
            "1 \t 0.7352941176470589\n",
            "2 \t 0.5\n"
          ],
          "name": "stdout"
        }
      ]
    },
    {
      "cell_type": "code",
      "metadata": {
        "id": "NyFFZmRMac-Z",
        "colab_type": "code",
        "colab": {
          "base_uri": "https://localhost:8080/",
          "height": 87
        },
        "outputId": "1c2a7d38-c5fd-4c67-82a6-792734db9b89"
      },
      "source": [
        "# 10 ближайших соседей\n",
        "print_accuracy_score_for_classes(wine_y_test, target1_2)"
      ],
      "execution_count": 48,
      "outputs": [
        {
          "output_type": "stream",
          "text": [
            "Метка \t Accuracy\n",
            "0 \t 0.7878787878787878\n",
            "1 \t 0.8235294117647058\n",
            "2 \t 0.22727272727272727\n"
          ],
          "name": "stdout"
        }
      ]
    },
    {
      "cell_type": "code",
      "metadata": {
        "id": "PJTGTcWobnpn",
        "colab_type": "code",
        "colab": {}
      },
      "source": [
        "# Конвертация целевого признака в бинарный\n",
        "def convert_target_to_binary(array:np.ndarray, target:int) -> np.ndarray:\n",
        "    # Если целевой признак совпадает с указанным, то 1 иначе 0\n",
        "    res = [1 if x==target else 0 for x in array]\n",
        "    return res\n",
        "\n",
        "# Если целевой признак ==2, \n",
        "# то будем считать этот случай 1 в бинарном признаке\n",
        "bin_wine_y_test = convert_target_to_binary(wine_y_test, 2)\n",
        "\n",
        "# Конвертация предсказанных признаков\n",
        "bin_target1_1 = convert_target_to_binary(target1_1, 2)\n",
        "bin_target1_2 = convert_target_to_binary(target1_2, 2)\n"
      ],
      "execution_count": 0,
      "outputs": []
    },
    {
      "cell_type": "code",
      "metadata": {
        "id": "6590GJEFcJio",
        "colab_type": "code",
        "colab": {
          "base_uri": "https://localhost:8080/",
          "height": 34
        },
        "outputId": "95823199-9dc5-4ba0-930f-76ca25afd028"
      },
      "source": [
        "balanced_accuracy_score(bin_wine_y_test, bin_target1_1)"
      ],
      "execution_count": 51,
      "outputs": [
        {
          "output_type": "execute_result",
          "data": {
            "text/plain": [
              "0.6529850746268657"
            ]
          },
          "metadata": {
            "tags": []
          },
          "execution_count": 51
        }
      ]
    },
    {
      "cell_type": "code",
      "metadata": {
        "id": "XNBzsW7ucN4h",
        "colab_type": "code",
        "colab": {
          "base_uri": "https://localhost:8080/",
          "height": 34
        },
        "outputId": "acd7e065-aefc-4297-f70b-227dbfcf004b"
      },
      "source": [
        "balanced_accuracy_score(bin_wine_y_test, bin_target1_2)"
      ],
      "execution_count": 52,
      "outputs": [
        {
          "output_type": "execute_result",
          "data": {
            "text/plain": [
              "0.5390094979647219"
            ]
          },
          "metadata": {
            "tags": []
          },
          "execution_count": 52
        }
      ]
    },
    {
      "cell_type": "code",
      "metadata": {
        "id": "TuVLktcQcXbk",
        "colab_type": "code",
        "colab": {
          "base_uri": "https://localhost:8080/",
          "height": 52
        },
        "outputId": "0a731467-ccfd-4489-902f-a678998c3bf5"
      },
      "source": [
        "confusion_matrix(bin_wine_y_test, bin_target1_1, labels=[0, 1])"
      ],
      "execution_count": 53,
      "outputs": [
        {
          "output_type": "execute_result",
          "data": {
            "text/plain": [
              "array([[54, 13],\n",
              "       [11, 11]])"
            ]
          },
          "metadata": {
            "tags": []
          },
          "execution_count": 53
        }
      ]
    },
    {
      "cell_type": "code",
      "metadata": {
        "id": "IufQwfricgkH",
        "colab_type": "code",
        "colab": {
          "base_uri": "https://localhost:8080/",
          "height": 34
        },
        "outputId": "66fbfddb-0bc9-462c-e384-18bc4893ecbf"
      },
      "source": [
        "tn, fp, fn, tp = confusion_matrix(bin_wine_y_test, bin_target1_1).ravel()\n",
        "tn, fp, fn, tp"
      ],
      "execution_count": 55,
      "outputs": [
        {
          "output_type": "execute_result",
          "data": {
            "text/plain": [
              "(54, 13, 11, 11)"
            ]
          },
          "metadata": {
            "tags": []
          },
          "execution_count": 55
        }
      ]
    },
    {
      "cell_type": "code",
      "metadata": {
        "id": "uWX1s7J6cjjg",
        "colab_type": "code",
        "colab": {
          "base_uri": "https://localhost:8080/",
          "height": 70
        },
        "outputId": "61f1a969-cbfa-4ebf-e35a-eb8556e75fc8"
      },
      "source": [
        "# Пример для небинарной классификации\n",
        "confusion_matrix(wine_y_test, target1_1, labels=[0, 1, 2])"
      ],
      "execution_count": 57,
      "outputs": [
        {
          "output_type": "execute_result",
          "data": {
            "text/plain": [
              "array([[26,  0,  7],\n",
              "       [ 3, 25,  6],\n",
              "       [ 2,  9, 11]])"
            ]
          },
          "metadata": {
            "tags": []
          },
          "execution_count": 57
        }
      ]
    },
    {
      "cell_type": "code",
      "metadata": {
        "id": "kLc66H0kcnaW",
        "colab_type": "code",
        "colab": {
          "base_uri": "https://localhost:8080/",
          "height": 304
        },
        "outputId": "bf5b21d6-4f10-40b6-aaa3-3d43638473db"
      },
      "source": [
        "plot_confusion_matrix(cl1_1, wine_X_test, wine_y_test, \n",
        "                      display_labels=wine.target_names, cmap=plt.cm.Blues)\n"
      ],
      "execution_count": 58,
      "outputs": [
        {
          "output_type": "execute_result",
          "data": {
            "text/plain": [
              "<sklearn.metrics._plot.confusion_matrix.ConfusionMatrixDisplay at 0x7f45b4cd9cc0>"
            ]
          },
          "metadata": {
            "tags": []
          },
          "execution_count": 58
        },
        {
          "output_type": "display_data",
          "data": {
            "image/png": "[encoded data removed]",
            "text/plain": [
              "<Figure size 432x288 with 2 Axes>"
            ]
          },
          "metadata": {
            "tags": []
          }
        }
      ]
    },
    {
      "cell_type": "code",
      "metadata": {
        "id": "DsiKEuB1c4fc",
        "colab_type": "code",
        "colab": {
          "base_uri": "https://localhost:8080/",
          "height": 304
        },
        "outputId": "8347e7af-5816-458f-a673-95bbf90e398a"
      },
      "source": [
        "plot_confusion_matrix(cl1_1, wine_X_test, wine_y_test, \n",
        "                      display_labels=wine.target_names, \n",
        "                      cmap=plt.cm.Blues, normalize='true')"
      ],
      "execution_count": 59,
      "outputs": [
        {
          "output_type": "execute_result",
          "data": {
            "text/plain": [
              "<sklearn.metrics._plot.confusion_matrix.ConfusionMatrixDisplay at 0x7f45b4bdf320>"
            ]
          },
          "metadata": {
            "tags": []
          },
          "execution_count": 59
        },
        {
          "output_type": "display_data",
          "data": {
            "image/png": "[encoded data removed]",
            "text/plain": [
              "<Figure size 432x288 with 2 Axes>"
            ]
          },
          "metadata": {
            "tags": []
          }
        }
      ]
    },
    {
      "cell_type": "code",
      "metadata": {
        "id": "4nwhjFkqc9Pg",
        "colab_type": "code",
        "colab": {
          "base_uri": "https://localhost:8080/",
          "height": 376
        },
        "outputId": "e2eccf2d-8cfe-4a36-9bf1-ff77f2ecadab"
      },
      "source": [
        "fig, ax = plt.subplots(1, 2, sharex='col', sharey='row', figsize=(15,5))\n",
        "\n",
        "plot_confusion_matrix(cl1_1, wine_X_test, wine_y_test, \n",
        "                      display_labels=wine.target_names, \n",
        "                      cmap=plt.cm.Blues, normalize='true', ax=ax[0])\n",
        "\n",
        "plot_confusion_matrix(cl1_2, wine_X_test, wine_y_test, \n",
        "                      display_labels=wine.target_names, \n",
        "                      cmap=plt.cm.Blues, normalize='true', ax=ax[1])\n",
        "\n",
        "fig.suptitle('Матрицы ошибок')\n",
        "ax[0].title.set_text('K=3')\n",
        "ax[1].title.set_text('K=10')"
      ],
      "execution_count": 60,
      "outputs": [
        {
          "output_type": "display_data",
          "data": {
            "image/png": "[encoded data removed]",
            "text/plain": [
              "<Figure size 1080x360 with 4 Axes>"
            ]
          },
          "metadata": {
            "tags": []
          }
        }
      ]
    },
    {
      "cell_type": "code",
      "metadata": {
        "id": "0wgAhT4fdn4A",
        "colab_type": "code",
        "colab": {
          "base_uri": "https://localhost:8080/",
          "height": 34
        },
        "outputId": "baeef290-1434-4d31-dee1-ccc856f59548"
      },
      "source": [
        "# По умолчанию метрики считаются для 1 класса бинарной классификации\n",
        "# Для 3 ближайших соседей\n",
        "precision_score(bin_wine_y_test, bin_target1_1), recall_score(bin_wine_y_test, bin_target1_1)"
      ],
      "execution_count": 61,
      "outputs": [
        {
          "output_type": "execute_result",
          "data": {
            "text/plain": [
              "(0.4583333333333333, 0.5)"
            ]
          },
          "metadata": {
            "tags": []
          },
          "execution_count": 61
        }
      ]
    },
    {
      "cell_type": "code",
      "metadata": {
        "id": "szftMEVvdCbg",
        "colab_type": "code",
        "colab": {
          "base_uri": "https://localhost:8080/",
          "height": 34
        },
        "outputId": "3a4d9029-a5aa-49a0-8231-96560b3732f9"
      },
      "source": [
        "# Для 10 ближайших соседей\n",
        "precision_score(bin_wine_y_test, bin_target1_2), recall_score(bin_wine_y_test, bin_target1_2)"
      ],
      "execution_count": 62,
      "outputs": [
        {
          "output_type": "execute_result",
          "data": {
            "text/plain": [
              "(0.3333333333333333, 0.22727272727272727)"
            ]
          },
          "metadata": {
            "tags": []
          },
          "execution_count": 62
        }
      ]
    },
    {
      "cell_type": "code",
      "metadata": {
        "id": "9weBjhLZd3yA",
        "colab_type": "code",
        "colab": {
          "base_uri": "https://localhost:8080/",
          "height": 34
        },
        "outputId": "468bac55-daaf-4452-a3e2-068aced33c7a"
      },
      "source": [
        "# Параметры TP, TN, FP, FN считаются как сумма по всем классам\n",
        "precision_score(wine_y_test, target1_1, average='micro')"
      ],
      "execution_count": 63,
      "outputs": [
        {
          "output_type": "execute_result",
          "data": {
            "text/plain": [
              "0.6966292134831461"
            ]
          },
          "metadata": {
            "tags": []
          },
          "execution_count": 63
        }
      ]
    },
    {
      "cell_type": "code",
      "metadata": {
        "id": "c00-eU70d68y",
        "colab_type": "code",
        "colab": {
          "base_uri": "https://localhost:8080/",
          "height": 34
        },
        "outputId": "ef7ae3d9-ea01-4cb3-c636-c090a302db30"
      },
      "source": [
        "# Параметры TP, TN, FP, FN считаются отдельно для каждого класса \n",
        "# и берется среднее значение, дисбаланс классов не учитывается.\n",
        "precision_score(wine_y_test, target1_1, average='macro')"
      ],
      "execution_count": 64,
      "outputs": [
        {
          "output_type": "execute_result",
          "data": {
            "text/plain": [
              "0.6774457094665824"
            ]
          },
          "metadata": {
            "tags": []
          },
          "execution_count": 64
        }
      ]
    },
    {
      "cell_type": "code",
      "metadata": {
        "id": "emp4HE8nd_Tk",
        "colab_type": "code",
        "colab": {
          "base_uri": "https://localhost:8080/",
          "height": 34
        },
        "outputId": "9b5f0636-1540-42c8-d3e4-3dfc08d6d8c5"
      },
      "source": [
        "# Параметры TP, TN, FP, FN считаются отдельно для каждого класса \n",
        "# и берется средневзвешенное значение, дисбаланс классов учитывается \n",
        "# в виде веса классов (вес - количество истинных значений каждого класса).\n",
        "precision_score(wine_y_test, target1_1, average='weighted')"
      ],
      "execution_count": 65,
      "outputs": [
        {
          "output_type": "execute_result",
          "data": {
            "text/plain": [
              "0.7051769964963152"
            ]
          },
          "metadata": {
            "tags": []
          },
          "execution_count": 65
        }
      ]
    },
    {
      "cell_type": "code",
      "metadata": {
        "id": "ng-XeCahePu0",
        "colab_type": "code",
        "colab": {
          "base_uri": "https://localhost:8080/",
          "height": 34
        },
        "outputId": "9eb061b4-f04d-415c-e82e-8213921944d4"
      },
      "source": [
        "f1_score(bin_wine_y_test, bin_target1_2)"
      ],
      "execution_count": 66,
      "outputs": [
        {
          "output_type": "execute_result",
          "data": {
            "text/plain": [
              "0.27027027027027023"
            ]
          },
          "metadata": {
            "tags": []
          },
          "execution_count": 66
        }
      ]
    },
    {
      "cell_type": "code",
      "metadata": {
        "id": "DCkbFpBCedkj",
        "colab_type": "code",
        "colab": {
          "base_uri": "https://localhost:8080/",
          "height": 34
        },
        "outputId": "7ffb7ca8-4a5c-4159-a37b-f5a98306165c"
      },
      "source": [
        "f1_score(wine_y_test, target1_1, average='micro')"
      ],
      "execution_count": 67,
      "outputs": [
        {
          "output_type": "execute_result",
          "data": {
            "text/plain": [
              "0.6966292134831461"
            ]
          },
          "metadata": {
            "tags": []
          },
          "execution_count": 67
        }
      ]
    },
    {
      "cell_type": "code",
      "metadata": {
        "id": "c-OkMjwVehCc",
        "colab_type": "code",
        "colab": {
          "base_uri": "https://localhost:8080/",
          "height": 34
        },
        "outputId": "9d7caf7c-b3f5-4d2e-c33e-355958aa209d"
      },
      "source": [
        "f1_score(wine_y_test, target1_1, average='macro')"
      ],
      "execution_count": 68,
      "outputs": [
        {
          "output_type": "execute_result",
          "data": {
            "text/plain": [
              "0.6753516624040921"
            ]
          },
          "metadata": {
            "tags": []
          },
          "execution_count": 68
        }
      ]
    },
    {
      "cell_type": "code",
      "metadata": {
        "id": "6hYv6yr9elEK",
        "colab_type": "code",
        "colab": {
          "base_uri": "https://localhost:8080/",
          "height": 34
        },
        "outputId": "0f588a06-18ca-4f30-a6a0-4dda55671647"
      },
      "source": [
        "f1_score(wine_y_test, target1_1, average='weighted')"
      ],
      "execution_count": 69,
      "outputs": [
        {
          "output_type": "execute_result",
          "data": {
            "text/plain": [
              "0.7003847093307279"
            ]
          },
          "metadata": {
            "tags": []
          },
          "execution_count": 69
        }
      ]
    },
    {
      "cell_type": "code",
      "metadata": {
        "id": "w2kObPD9eoZ2",
        "colab_type": "code",
        "colab": {
          "base_uri": "https://localhost:8080/",
          "height": 386
        },
        "outputId": "7a4eacef-42cb-4f0b-99ac-abfcafd585d8"
      },
      "source": [
        "classification_report(wine_y_test, target1_1, \n",
        "                      target_names=wine.target_names, output_dict=True)"
      ],
      "execution_count": 70,
      "outputs": [
        {
          "output_type": "execute_result",
          "data": {
            "text/plain": [
              "{'accuracy': 0.6966292134831461,\n",
              " 'class_0': {'f1-score': 0.8125,\n",
              "  'precision': 0.8387096774193549,\n",
              "  'recall': 0.7878787878787878,\n",
              "  'support': 33},\n",
              " 'class_1': {'f1-score': 0.735294117647059,\n",
              "  'precision': 0.7352941176470589,\n",
              "  'recall': 0.7352941176470589,\n",
              "  'support': 34},\n",
              " 'class_2': {'f1-score': 0.4782608695652174,\n",
              "  'precision': 0.4583333333333333,\n",
              "  'recall': 0.5,\n",
              "  'support': 22},\n",
              " 'macro avg': {'f1-score': 0.6753516624040921,\n",
              "  'precision': 0.6774457094665824,\n",
              "  'recall': 0.6743909685086157,\n",
              "  'support': 89},\n",
              " 'weighted avg': {'f1-score': 0.7003847093307279,\n",
              "  'precision': 0.7051769964963152,\n",
              "  'recall': 0.6966292134831461,\n",
              "  'support': 89}}"
            ]
          },
          "metadata": {
            "tags": []
          },
          "execution_count": 70
        }
      ]
    },
    {
      "cell_type": "code",
      "metadata": {
        "id": "wUp4gZ1ue6Cl",
        "colab_type": "code",
        "colab": {
          "base_uri": "https://localhost:8080/",
          "height": 70
        },
        "outputId": "dda08f5b-24a9-4ba0-96d8-4941f41ef359"
      },
      "source": [
        "fpr, tpr, thresholds = roc_curve(bin_wine_y_test, bin_target1_1, \n",
        "                                 pos_label=1)\n",
        "fpr, tpr, thresholds"
      ],
      "execution_count": 71,
      "outputs": [
        {
          "output_type": "execute_result",
          "data": {
            "text/plain": [
              "(array([0.        , 0.19402985, 1.        ]),\n",
              " array([0. , 0.5, 1. ]),\n",
              " array([2, 1, 0]))"
            ]
          },
          "metadata": {
            "tags": []
          },
          "execution_count": 71
        }
      ]
    },
    {
      "cell_type": "code",
      "metadata": {
        "id": "ZDmrPPZ-fCRc",
        "colab_type": "code",
        "colab": {}
      },
      "source": [
        "# Отрисовка ROC-кривой\n",
        "def draw_roc_curve(y_true, y_score, pos_label, average):\n",
        "    fpr, tpr, thresholds = roc_curve(y_true, y_score, \n",
        "                                     pos_label=pos_label)\n",
        "    roc_auc_value = roc_auc_score(y_true, y_score, average=average)\n",
        "    plt.figure()\n",
        "    lw = 2\n",
        "    plt.plot(fpr, tpr, color='darkorange',\n",
        "             lw=lw, label='ROC curve (area = %0.2f)' % roc_auc_value)\n",
        "    plt.plot([0, 1], [0, 1], color='navy', lw=lw, linestyle='--')\n",
        "    plt.xlim([0.0, 1.0])\n",
        "    plt.ylim([0.0, 1.05])\n",
        "    plt.xlabel('False Positive Rate')\n",
        "    plt.ylabel('True Positive Rate')\n",
        "    plt.title('Receiver operating characteristic example')\n",
        "    plt.legend(loc=\"lower right\")\n",
        "    plt.show()"
      ],
      "execution_count": 0,
      "outputs": []
    },
    {
      "cell_type": "code",
      "metadata": {
        "id": "L-eSTqY7fG8S",
        "colab_type": "code",
        "colab": {
          "base_uri": "https://localhost:8080/",
          "height": 301
        },
        "outputId": "c71f3b01-1df6-40f8-935a-044753b50a4a"
      },
      "source": [
        "# Для 3 ближайших соседей\n",
        "draw_roc_curve(bin_wine_y_test, bin_target1_1, pos_label=1, average='micro')"
      ],
      "execution_count": 73,
      "outputs": [
        {
          "output_type": "display_data",
          "data": {
            "image/png": "[encoded data removed]",
            "text/plain": [
              "<Figure size 432x288 with 1 Axes>"
            ]
          },
          "metadata": {
            "tags": []
          }
        }
      ]
    },
    {
      "cell_type": "code",
      "metadata": {
        "id": "MOJNtcusfUJK",
        "colab_type": "code",
        "colab": {
          "base_uri": "https://localhost:8080/",
          "height": 301
        },
        "outputId": "0eaa04b9-d4fc-40d6-bd57-daabd5758af9"
      },
      "source": [
        "# Для 10 ближайших соседей\n",
        "draw_roc_curve(bin_wine_y_test, bin_target1_2, pos_label=1, average='micro')"
      ],
      "execution_count": 74,
      "outputs": [
        {
          "output_type": "display_data",
          "data": {
            "image/png": "[encoded data removed]",
            "text/plain": [
              "<Figure size 432x288 with 1 Axes>"
            ]
          },
          "metadata": {
            "tags": []
          }
        }
      ]
    },
    {
      "cell_type": "code",
      "metadata": {
        "id": "J6sN4K9viPME",
        "colab_type": "code",
        "colab": {}
      },
      "source": [
        "from sklearn.neighbors import KNeighborsRegressor, KNeighborsClassifier\n",
        "from sklearn.model_selection import cross_val_score, cross_validate"
      ],
      "execution_count": 0,
      "outputs": []
    },
    {
      "cell_type": "code",
      "metadata": {
        "id": "AXqkTrlcfi-k",
        "colab_type": "code",
        "colab": {}
      },
      "source": [
        "scores = cross_val_score(KNeighborsClassifier(n_neighbors=3), \n",
        "                         wine.data, wine.target, cv=3)"
      ],
      "execution_count": 0,
      "outputs": []
    },
    {
      "cell_type": "code",
      "metadata": {
        "id": "EO14ggXMiTFE",
        "colab_type": "code",
        "colab": {
          "base_uri": "https://localhost:8080/",
          "height": 34
        },
        "outputId": "47634f9d-0244-459f-9846-97e65cb8a54b"
      },
      "source": [
        "# Значение метрики accuracy для 3 фолдов\n",
        "scores\n"
      ],
      "execution_count": 81,
      "outputs": [
        {
          "output_type": "execute_result",
          "data": {
            "text/plain": [
              "array([0.61666667, 0.57627119, 0.79661017])"
            ]
          },
          "metadata": {
            "tags": []
          },
          "execution_count": 81
        }
      ]
    },
    {
      "cell_type": "code",
      "metadata": {
        "id": "powwJkD5idRn",
        "colab_type": "code",
        "colab": {
          "base_uri": "https://localhost:8080/",
          "height": 34
        },
        "outputId": "3660882c-f9c8-416a-a1fb-273e2dc8e935"
      },
      "source": [
        "# Усредненное значение метрики accuracy для 3 фолдов\n",
        "np.mean(scores)"
      ],
      "execution_count": 82,
      "outputs": [
        {
          "output_type": "execute_result",
          "data": {
            "text/plain": [
              "0.6631826741996233"
            ]
          },
          "metadata": {
            "tags": []
          },
          "execution_count": 82
        }
      ]
    },
    {
      "cell_type": "code",
      "metadata": {
        "id": "cCm_PtqGjAyb",
        "colab_type": "code",
        "colab": {}
      },
      "source": [
        "scoring = {'precision': 'precision_weighted', \n",
        "           'recall': 'recall_weighted',\n",
        "           'f1': 'f1_weighted'}"
      ],
      "execution_count": 0,
      "outputs": []
    },
    {
      "cell_type": "code",
      "metadata": {
        "id": "ZMAtaDA-jDdf",
        "colab_type": "code",
        "colab": {
          "base_uri": "https://localhost:8080/",
          "height": 158
        },
        "outputId": "58e5c2ac-5a8e-42cb-ce4d-cc75b6940ef7"
      },
      "source": [
        "scores = cross_validate(KNeighborsClassifier(n_neighbors=3), \n",
        "                        wine.data, wine.target, scoring=scoring, \n",
        "                        cv=3, return_train_score=True)\n",
        "scores"
      ],
      "execution_count": 84,
      "outputs": [
        {
          "output_type": "execute_result",
          "data": {
            "text/plain": [
              "{'fit_time': array([0.00085354, 0.00051498, 0.00043821]),\n",
              " 'score_time': array([0.00853586, 0.00439715, 0.00407171]),\n",
              " 'test_f1': array([0.60380952, 0.57731661, 0.78515946]),\n",
              " 'test_precision': array([0.61631579, 0.59473992, 0.78926159]),\n",
              " 'test_recall': array([0.61666667, 0.57627119, 0.79661017]),\n",
              " 'train_f1': array([0.83420614, 0.87517928, 0.78484177]),\n",
              " 'train_precision': array([0.84432192, 0.87868395, 0.78719633]),\n",
              " 'train_recall': array([0.83050847, 0.87394958, 0.78991597])}"
            ]
          },
          "metadata": {
            "tags": []
          },
          "execution_count": 84
        }
      ]
    },
    {
      "cell_type": "code",
      "metadata": {
        "id": "qb3tnFN6jjAD",
        "colab_type": "code",
        "colab": {
          "base_uri": "https://localhost:8080/",
          "height": 52
        },
        "outputId": "82a5c073-ab9d-4753-9053-d02194e83b53"
      },
      "source": [
        "n_range = np.array(range(5,30,1))\n",
        "tuned_parameters = [{'n_neighbors': n_range}]\n",
        "tuned_parameters"
      ],
      "execution_count": 90,
      "outputs": [
        {
          "output_type": "execute_result",
          "data": {
            "text/plain": [
              "[{'n_neighbors': array([ 5,  6,  7,  8,  9, 10, 11, 12, 13, 14, 15, 16, 17, 18, 19, 20, 21,\n",
              "         22, 23, 24, 25, 26, 27, 28, 29])}]"
            ]
          },
          "metadata": {
            "tags": []
          },
          "execution_count": 90
        }
      ]
    },
    {
      "cell_type": "code",
      "metadata": {
        "id": "LIGoAnNekbSe",
        "colab_type": "code",
        "colab": {}
      },
      "source": [
        "from sklearn.model_selection import GridSearchCV, RandomizedSearchCV"
      ],
      "execution_count": 0,
      "outputs": []
    },
    {
      "cell_type": "code",
      "metadata": {
        "id": "RZa68252j4LW",
        "colab_type": "code",
        "colab": {
          "base_uri": "https://localhost:8080/",
          "height": 52
        },
        "outputId": "312eba1c-019d-4df7-85be-11147ee664a8"
      },
      "source": [
        "%%time\n",
        "clf_gs = GridSearchCV(KNeighborsClassifier(), tuned_parameters, cv=5, scoring='accuracy')\n",
        "clf_gs.fit(wine_X_train, wine_y_train)"
      ],
      "execution_count": 94,
      "outputs": [
        {
          "output_type": "stream",
          "text": [
            "CPU times: user 262 ms, sys: 0 ns, total: 262 ms\n",
            "Wall time: 265 ms\n"
          ],
          "name": "stdout"
        }
      ]
    },
    {
      "cell_type": "code",
      "metadata": {
        "id": "ygmkfoIklgmt",
        "colab_type": "code",
        "colab": {
          "base_uri": "https://localhost:8080/",
          "height": 1000
        },
        "outputId": "fc487f63-1e38-4d17-a949-781de4e9dea9"
      },
      "source": [
        "clf_gs.cv_results_"
      ],
      "execution_count": 95,
      "outputs": [
        {
          "output_type": "execute_result",
          "data": {
            "text/plain": [
              "{'mean_fit_time': array([0.00079412, 0.00042229, 0.000424  , 0.00041122, 0.00042453,\n",
              "        0.00041642, 0.00042357, 0.00042272, 0.00042644, 0.00042472,\n",
              "        0.00041595, 0.00041776, 0.00041423, 0.00041547, 0.00041981,\n",
              "        0.0004138 , 0.00041986, 0.00041375, 0.00042772, 0.00042868,\n",
              "        0.00042977, 0.00041394, 0.00041647, 0.00042043, 0.00040278]),\n",
              " 'mean_score_time': array([0.00209603, 0.00128002, 0.00122681, 0.00126824, 0.00124025,\n",
              "        0.00131435, 0.0012342 , 0.00125484, 0.00124636, 0.00125728,\n",
              "        0.0012476 , 0.00128284, 0.00126023, 0.00125666, 0.00125179,\n",
              "        0.00125437, 0.00125766, 0.0013196 , 0.00127416, 0.00133877,\n",
              "        0.00129719, 0.00133085, 0.00127959, 0.00134783, 0.00130792]),\n",
              " 'mean_test_score': array([0.69411765, 0.67254902, 0.63856209, 0.62679739, 0.66143791,\n",
              "        0.68300654, 0.70718954, 0.69607843, 0.69607843, 0.70784314,\n",
              "        0.71895425, 0.71830065, 0.74052288, 0.71830065, 0.71830065,\n",
              "        0.70784314, 0.69607843, 0.69607843, 0.68431373, 0.69607843,\n",
              "        0.71699346, 0.73006536, 0.68366013, 0.63921569, 0.69477124]),\n",
              " 'param_n_neighbors': masked_array(data=[5, 6, 7, 8, 9, 10, 11, 12, 13, 14, 15, 16, 17, 18, 19,\n",
              "                    20, 21, 22, 23, 24, 25, 26, 27, 28, 29],\n",
              "              mask=[False, False, False, False, False, False, False, False,\n",
              "                    False, False, False, False, False, False, False, False,\n",
              "                    False, False, False, False, False, False, False, False,\n",
              "                    False],\n",
              "        fill_value='?',\n",
              "             dtype=object),\n",
              " 'params': [{'n_neighbors': 5},\n",
              "  {'n_neighbors': 6},\n",
              "  {'n_neighbors': 7},\n",
              "  {'n_neighbors': 8},\n",
              "  {'n_neighbors': 9},\n",
              "  {'n_neighbors': 10},\n",
              "  {'n_neighbors': 11},\n",
              "  {'n_neighbors': 12},\n",
              "  {'n_neighbors': 13},\n",
              "  {'n_neighbors': 14},\n",
              "  {'n_neighbors': 15},\n",
              "  {'n_neighbors': 16},\n",
              "  {'n_neighbors': 17},\n",
              "  {'n_neighbors': 18},\n",
              "  {'n_neighbors': 19},\n",
              "  {'n_neighbors': 20},\n",
              "  {'n_neighbors': 21},\n",
              "  {'n_neighbors': 22},\n",
              "  {'n_neighbors': 23},\n",
              "  {'n_neighbors': 24},\n",
              "  {'n_neighbors': 25},\n",
              "  {'n_neighbors': 26},\n",
              "  {'n_neighbors': 27},\n",
              "  {'n_neighbors': 28},\n",
              "  {'n_neighbors': 29}],\n",
              " 'rank_test_score': array([17, 21, 24, 25, 22, 20, 10, 11, 11,  9,  3,  4,  1,  4,  6,  8, 11,\n",
              "        11, 18, 11,  7,  2, 19, 23, 16], dtype=int32),\n",
              " 'split0_test_score': array([0.77777778, 0.66666667, 0.77777778, 0.72222222, 0.77777778,\n",
              "        0.77777778, 0.72222222, 0.77777778, 0.72222222, 0.72222222,\n",
              "        0.83333333, 0.77777778, 0.77777778, 0.72222222, 0.72222222,\n",
              "        0.72222222, 0.72222222, 0.72222222, 0.72222222, 0.66666667,\n",
              "        0.77777778, 0.72222222, 0.66666667, 0.61111111, 0.72222222]),\n",
              " 'split1_test_score': array([0.72222222, 0.72222222, 0.61111111, 0.66666667, 0.61111111,\n",
              "        0.66666667, 0.66666667, 0.66666667, 0.61111111, 0.72222222,\n",
              "        0.72222222, 0.77777778, 0.72222222, 0.77777778, 0.72222222,\n",
              "        0.66666667, 0.66666667, 0.61111111, 0.61111111, 0.61111111,\n",
              "        0.77777778, 0.77777778, 0.77777778, 0.77777778, 0.77777778]),\n",
              " 'split2_test_score': array([0.66666667, 0.66666667, 0.61111111, 0.61111111, 0.61111111,\n",
              "        0.72222222, 0.72222222, 0.66666667, 0.66666667, 0.72222222,\n",
              "        0.61111111, 0.66666667, 0.77777778, 0.72222222, 0.72222222,\n",
              "        0.72222222, 0.66666667, 0.72222222, 0.72222222, 0.83333333,\n",
              "        0.72222222, 0.66666667, 0.72222222, 0.55555556, 0.72222222]),\n",
              " 'split3_test_score': array([0.83333333, 0.77777778, 0.72222222, 0.72222222, 0.77777778,\n",
              "        0.77777778, 0.77777778, 0.72222222, 0.83333333, 0.66666667,\n",
              "        0.72222222, 0.72222222, 0.77777778, 0.72222222, 0.77777778,\n",
              "        0.72222222, 0.77777778, 0.77777778, 0.77777778, 0.72222222,\n",
              "        0.77777778, 0.77777778, 0.72222222, 0.72222222, 0.72222222]),\n",
              " 'split4_test_score': array([0.47058824, 0.52941176, 0.47058824, 0.41176471, 0.52941176,\n",
              "        0.47058824, 0.64705882, 0.64705882, 0.64705882, 0.70588235,\n",
              "        0.70588235, 0.64705882, 0.64705882, 0.64705882, 0.64705882,\n",
              "        0.70588235, 0.64705882, 0.64705882, 0.58823529, 0.64705882,\n",
              "        0.52941176, 0.70588235, 0.52941176, 0.52941176, 0.52941176]),\n",
              " 'std_fit_time': array([2.95198766e-04, 9.22824666e-06, 1.16397113e-05, 3.10048306e-05,\n",
              "        9.08571883e-06, 6.74282138e-06, 6.14657709e-06, 3.13771894e-06,\n",
              "        1.34773786e-05, 2.23313588e-05, 5.49625932e-06, 6.36787416e-06,\n",
              "        3.25019706e-06, 6.83825051e-06, 6.73573628e-06, 6.64088835e-06,\n",
              "        9.81636204e-06, 5.37071918e-06, 4.93013650e-06, 7.43774262e-06,\n",
              "        6.46215515e-06, 9.57291419e-06, 7.43835400e-06, 1.92278339e-06,\n",
              "        6.96671980e-06]),\n",
              " 'std_score_time': array([5.87245348e-04, 3.78653142e-05, 3.09571996e-05, 6.63457863e-05,\n",
              "        3.33649744e-05, 1.34349104e-04, 8.77769011e-06, 2.59980784e-05,\n",
              "        5.56205558e-06, 3.01392016e-05, 2.22910024e-05, 9.26794812e-05,\n",
              "        1.87594065e-05, 1.62610560e-05, 1.40190125e-05, 1.78482384e-05,\n",
              "        1.93897492e-05, 9.92235455e-05, 1.47514644e-05, 4.50280235e-05,\n",
              "        2.36187991e-05, 3.74661730e-05, 1.45962027e-05, 7.98712061e-05,\n",
              "        3.03428835e-05]),\n",
              " 'std_test_score': array([0.12481093, 0.08258087, 0.10592672, 0.11514032, 0.09956546,\n",
              "        0.11392065, 0.04624385, 0.04794019, 0.07747235, 0.0215389 ,\n",
              "        0.07057613, 0.05446449, 0.0514475 , 0.04161505, 0.04161505,\n",
              "        0.0215389 , 0.04794019, 0.05943761, 0.07238691, 0.07747235,\n",
              "        0.09622726, 0.04293874, 0.08475086, 0.09584918, 0.08543361])}"
            ]
          },
          "metadata": {
            "tags": []
          },
          "execution_count": 95
        }
      ]
    },
    {
      "cell_type": "code",
      "metadata": {
        "id": "7n3sqUiCmEem",
        "colab_type": "code",
        "colab": {
          "base_uri": "https://localhost:8080/",
          "height": 70
        },
        "outputId": "aa19be05-a920-4f9a-9b3f-9e678108ea30"
      },
      "source": [
        "# Лучшая модель\n",
        "clf_gs.best_estimator_"
      ],
      "execution_count": 96,
      "outputs": [
        {
          "output_type": "execute_result",
          "data": {
            "text/plain": [
              "KNeighborsClassifier(algorithm='auto', leaf_size=30, metric='minkowski',\n",
              "                     metric_params=None, n_jobs=None, n_neighbors=17, p=2,\n",
              "                     weights='uniform')"
            ]
          },
          "metadata": {
            "tags": []
          },
          "execution_count": 96
        }
      ]
    },
    {
      "cell_type": "code",
      "metadata": {
        "id": "tdZpY4tOmGbr",
        "colab_type": "code",
        "colab": {
          "base_uri": "https://localhost:8080/",
          "height": 34
        },
        "outputId": "dd848e70-2255-4ba8-d8d7-6135c11e7cf7"
      },
      "source": [
        "# Лучшее значение метрики\n",
        "clf_gs.best_score_"
      ],
      "execution_count": 97,
      "outputs": [
        {
          "output_type": "execute_result",
          "data": {
            "text/plain": [
              "0.7405228758169934"
            ]
          },
          "metadata": {
            "tags": []
          },
          "execution_count": 97
        }
      ]
    },
    {
      "cell_type": "code",
      "metadata": {
        "id": "05YkxBZlmKLo",
        "colab_type": "code",
        "colab": {
          "base_uri": "https://localhost:8080/",
          "height": 34
        },
        "outputId": "43fd8045-121b-4153-b565-679b468bd8ff"
      },
      "source": [
        "# Лучшее значение параметров\n",
        "clf_gs.best_params_"
      ],
      "execution_count": 98,
      "outputs": [
        {
          "output_type": "execute_result",
          "data": {
            "text/plain": [
              "{'n_neighbors': 17}"
            ]
          },
          "metadata": {
            "tags": []
          },
          "execution_count": 98
        }
      ]
    },
    {
      "cell_type": "code",
      "metadata": {
        "id": "CGYbLJ_tmYJo",
        "colab_type": "code",
        "colab": {
          "base_uri": "https://localhost:8080/",
          "height": 286
        },
        "outputId": "11cd4d13-d0cc-4485-bdaa-680998d16f2f"
      },
      "source": [
        "# Изменение качества на тестовой выборке в зависимости от К-соседей\n",
        "plt.plot(n_range, clf_gs.cv_results_['mean_test_score'])"
      ],
      "execution_count": 99,
      "outputs": [
        {
          "output_type": "execute_result",
          "data": {
            "text/plain": [
              "[<matplotlib.lines.Line2D at 0x7f45b43afe80>]"
            ]
          },
          "metadata": {
            "tags": []
          },
          "execution_count": 99
        },
        {
          "output_type": "display_data",
          "data": {
            "image/png": "[encoded data removed]",
            "text/plain": [
              "<Figure size 432x288 with 1 Axes>"
            ]
          },
          "metadata": {
            "tags": []
          }
        }
      ]
    },
    {
      "cell_type": "code",
      "metadata": {
        "id": "vdZypcJ2ke3Z",
        "colab_type": "code",
        "colab": {}
      },
      "source": [
        ""
      ],
      "execution_count": 0,
      "outputs": []
    }
  ]
}